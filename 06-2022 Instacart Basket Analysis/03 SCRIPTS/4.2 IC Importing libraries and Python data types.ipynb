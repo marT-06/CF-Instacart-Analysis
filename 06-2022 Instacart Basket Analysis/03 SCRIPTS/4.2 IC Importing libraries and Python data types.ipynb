{
 "cells": [
  {
   "cell_type": "markdown",
   "id": "a4582662",
   "metadata": {},
   "source": [
    "# Importing libraries "
   ]
  },
  {
   "cell_type": "code",
   "execution_count": 1,
   "id": "0b372a67",
   "metadata": {},
   "outputs": [],
   "source": [
    "# Import libraries \n",
    "import pandas as pd\n",
    "import numpy as np\n",
    "import os"
   ]
  },
  {
   "cell_type": "markdown",
   "id": "f3d31e7c",
   "metadata": {},
   "source": [
    "#  Data Types"
   ]
  },
  {
   "cell_type": "code",
   "execution_count": 1,
   "id": "020ac86d",
   "metadata": {},
   "outputs": [
    {
     "data": {
      "text/plain": [
       "100"
      ]
     },
     "execution_count": 1,
     "metadata": {},
     "output_type": "execute_result"
    }
   ],
   "source": [
    "#  3 different ways of reaching a result of 100 by adding or subtracting numeric variables.\n",
    "110 - 10"
   ]
  },
  {
   "cell_type": "code",
   "execution_count": 2,
   "id": "831059c9",
   "metadata": {},
   "outputs": [
    {
     "data": {
      "text/plain": [
       "100"
      ]
     },
     "execution_count": 2,
     "metadata": {},
     "output_type": "execute_result"
    }
   ],
   "source": [
    "40 + 60"
   ]
  },
  {
   "cell_type": "code",
   "execution_count": 3,
   "id": "dc637a28",
   "metadata": {},
   "outputs": [
    {
     "data": {
      "text/plain": [
       "100.0"
      ]
     },
     "execution_count": 3,
     "metadata": {},
     "output_type": "execute_result"
    }
   ],
   "source": [
    "70.5 + 30.5 - 1"
   ]
  },
  {
   "cell_type": "code",
   "execution_count": 6,
   "id": "12ef0663",
   "metadata": {},
   "outputs": [],
   "source": [
    "# Code 2 floating-point variables and divide them by each other\n",
    "x = 3.2\n",
    "y = 1.5"
   ]
  },
  {
   "cell_type": "code",
   "execution_count": 7,
   "id": "5c84656a",
   "metadata": {},
   "outputs": [
    {
     "data": {
      "text/plain": [
       "2.1333333333333333"
      ]
     },
     "execution_count": 7,
     "metadata": {},
     "output_type": "execute_result"
    }
   ],
   "source": [
    "x/y"
   ]
  },
  {
   "cell_type": "code",
   "execution_count": 8,
   "id": "c7c1ecb7",
   "metadata": {},
   "outputs": [],
   "source": [
    "# A short word made of separate string\n",
    "a = 'l'\n",
    "b = 'o'\n",
    "c = 'v'\n",
    "d = 'e'"
   ]
  },
  {
   "cell_type": "code",
   "execution_count": 9,
   "id": "61cebb33",
   "metadata": {},
   "outputs": [
    {
     "data": {
      "text/plain": [
       "'love'"
      ]
     },
     "execution_count": 9,
     "metadata": {},
     "output_type": "execute_result"
    }
   ],
   "source": [
    "a + b + c + d"
   ]
  },
  {
   "cell_type": "code",
   "execution_count": 10,
   "id": "b6f82124",
   "metadata": {},
   "outputs": [],
   "source": [
    "#2 short sentences made of separate strings\n",
    "a = 'The Sun'\n",
    "b = ' is'\n",
    "c = ' shining.'"
   ]
  },
  {
   "cell_type": "code",
   "execution_count": 11,
   "id": "43a26e42",
   "metadata": {},
   "outputs": [
    {
     "data": {
      "text/plain": [
       "'The Sun is shining.'"
      ]
     },
     "execution_count": 11,
     "metadata": {},
     "output_type": "execute_result"
    }
   ],
   "source": [
    "a + b + c\n"
   ]
  },
  {
   "cell_type": "code",
   "execution_count": 12,
   "id": "c4d6da04",
   "metadata": {},
   "outputs": [],
   "source": [
    "a = 'Have '\n",
    "b = 'a '\n",
    "c = 'nice '\n",
    "d = 'day!'\n"
   ]
  },
  {
   "cell_type": "code",
   "execution_count": 13,
   "id": "d9e8eb66",
   "metadata": {},
   "outputs": [
    {
     "data": {
      "text/plain": [
       "'Have a nice day!'"
      ]
     },
     "execution_count": 13,
     "metadata": {},
     "output_type": "execute_result"
    }
   ],
   "source": [
    "a + b + c + d"
   ]
  },
  {
   "cell_type": "code",
   "execution_count": 19,
   "id": "9147f5d6",
   "metadata": {},
   "outputs": [
    {
     "data": {
      "text/plain": [
       "'work work work work work work work work work work work work work work work work work work work work work work work work work work work work work work work work work work work work work work work work work work work work work work work work work work work work work work work work work work work work work work work work work work work work work work work work work work work work work work work work work work work work work work work work work work work work work work work work work work work work '"
      ]
     },
     "execution_count": 19,
     "metadata": {},
     "output_type": "execute_result"
    }
   ],
   "source": [
    "#Bonus Task- make a string appear 100 times\n",
    "a = 'work '\n",
    "a * 100"
   ]
  },
  {
   "cell_type": "code",
   "execution_count": null,
   "id": "4eaee33e",
   "metadata": {},
   "outputs": [],
   "source": []
  }
 ],
 "metadata": {
  "kernelspec": {
   "display_name": "Python 3 (ipykernel)",
   "language": "python",
   "name": "python3"
  },
  "language_info": {
   "codemirror_mode": {
    "name": "ipython",
    "version": 3
   },
   "file_extension": ".py",
   "mimetype": "text/x-python",
   "name": "python",
   "nbconvert_exporter": "python",
   "pygments_lexer": "ipython3",
   "version": "3.9.12"
  },
  "toc": {
   "base_numbering": 1,
   "nav_menu": {},
   "number_sections": true,
   "sideBar": true,
   "skip_h1_title": false,
   "title_cell": "Table of Contents",
   "title_sidebar": "Contents",
   "toc_cell": false,
   "toc_position": {},
   "toc_section_display": true,
   "toc_window_display": true
  }
 },
 "nbformat": 4,
 "nbformat_minor": 5
}
