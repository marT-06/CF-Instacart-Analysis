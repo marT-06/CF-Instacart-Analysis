{
 "cells": [
  {
   "cell_type": "markdown",
   "id": "48b45c2f",
   "metadata": {},
   "source": [
    "# Importing libraries"
   ]
  },
  {
   "cell_type": "code",
   "execution_count": 1,
   "id": "6aa8f8ec",
   "metadata": {},
   "outputs": [],
   "source": [
    "# import libraries\n",
    "\n",
    "import pandas as pd\n",
    "import numpy as np\n",
    "import os\n",
    "import matplotlib.pyplot as plt\n",
    "import seaborn as sns\n",
    "import scipy"
   ]
  },
  {
   "cell_type": "markdown",
   "id": "76fed1fc",
   "metadata": {},
   "source": [
    "# Import  and check data"
   ]
  },
  {
   "cell_type": "code",
   "execution_count": 2,
   "id": "48e3f8de",
   "metadata": {},
   "outputs": [],
   "source": [
    "# turn a project folder path into a string\n",
    "\n",
    "path = r'/Users/mart/Documents/06-2022 Instacart Basket Analysis'"
   ]
  },
  {
   "cell_type": "code",
   "execution_count": 3,
   "id": "ce1824e4",
   "metadata": {},
   "outputs": [],
   "source": [
    "# import 'cust_ords_prods_merge.pkl' which contains the new customers column.\n",
    "\n",
    "cust_ords_prods_merge = pd.read_pickle(os.path.join(path, '02 Data', 'Prepared Data', 'cust_ords_prods_merge.pkl'))"
   ]
  },
  {
   "cell_type": "code",
   "execution_count": 4,
   "id": "b31087f2",
   "metadata": {},
   "outputs": [],
   "source": [
    "# import departments wrangled\n",
    "\n",
    "departments = pd.read_csv(os.path.join(path, '02 Data', 'Prepared Data', 'departments_wrangled.csv'), index_col = 0)"
   ]
  },
  {
   "cell_type": "code",
   "execution_count": 5,
   "id": "11718d5d",
   "metadata": {},
   "outputs": [
    {
     "data": {
      "text/plain": [
       "(32404859, 30)"
      ]
     },
     "execution_count": 5,
     "metadata": {},
     "output_type": "execute_result"
    }
   ],
   "source": [
    "cust_ords_prods_merge.shape"
   ]
  },
  {
   "cell_type": "code",
   "execution_count": 6,
   "id": "153e50f0",
   "metadata": {},
   "outputs": [
    {
     "data": {
      "text/html": [
       "<div>\n",
       "<style scoped>\n",
       "    .dataframe tbody tr th:only-of-type {\n",
       "        vertical-align: middle;\n",
       "    }\n",
       "\n",
       "    .dataframe tbody tr th {\n",
       "        vertical-align: top;\n",
       "    }\n",
       "\n",
       "    .dataframe thead th {\n",
       "        text-align: right;\n",
       "    }\n",
       "</style>\n",
       "<table border=\"1\" class=\"dataframe\">\n",
       "  <thead>\n",
       "    <tr style=\"text-align: right;\">\n",
       "      <th></th>\n",
       "      <th>user_id</th>\n",
       "      <th>first_name</th>\n",
       "      <th>surname</th>\n",
       "      <th>gender</th>\n",
       "      <th>state</th>\n",
       "      <th>age</th>\n",
       "      <th>date_joined</th>\n",
       "      <th>n_dependants</th>\n",
       "      <th>fam_status</th>\n",
       "      <th>income</th>\n",
       "      <th>...</th>\n",
       "      <th>first_time_order</th>\n",
       "      <th>add_to_cart_order</th>\n",
       "      <th>reordered</th>\n",
       "      <th>max_order</th>\n",
       "      <th>loyalty_flag</th>\n",
       "      <th>average_price</th>\n",
       "      <th>spending_flag</th>\n",
       "      <th>median_days_since_prior_order</th>\n",
       "      <th>order_frequency_flag</th>\n",
       "      <th>_merge</th>\n",
       "    </tr>\n",
       "  </thead>\n",
       "  <tbody>\n",
       "    <tr>\n",
       "      <th>0</th>\n",
       "      <td>26711</td>\n",
       "      <td>Deborah</td>\n",
       "      <td>Esquivel</td>\n",
       "      <td>Female</td>\n",
       "      <td>Missouri</td>\n",
       "      <td>48</td>\n",
       "      <td>1/1/2017</td>\n",
       "      <td>3</td>\n",
       "      <td>married</td>\n",
       "      <td>165665</td>\n",
       "      <td>...</td>\n",
       "      <td>False</td>\n",
       "      <td>2</td>\n",
       "      <td>0</td>\n",
       "      <td>8</td>\n",
       "      <td>New customer</td>\n",
       "      <td>7.988889</td>\n",
       "      <td>Low spender</td>\n",
       "      <td>19.0</td>\n",
       "      <td>Regular customer</td>\n",
       "      <td>both</td>\n",
       "    </tr>\n",
       "    <tr>\n",
       "      <th>1</th>\n",
       "      <td>26711</td>\n",
       "      <td>Deborah</td>\n",
       "      <td>Esquivel</td>\n",
       "      <td>Female</td>\n",
       "      <td>Missouri</td>\n",
       "      <td>48</td>\n",
       "      <td>1/1/2017</td>\n",
       "      <td>3</td>\n",
       "      <td>married</td>\n",
       "      <td>165665</td>\n",
       "      <td>...</td>\n",
       "      <td>False</td>\n",
       "      <td>1</td>\n",
       "      <td>1</td>\n",
       "      <td>8</td>\n",
       "      <td>New customer</td>\n",
       "      <td>7.988889</td>\n",
       "      <td>Low spender</td>\n",
       "      <td>19.0</td>\n",
       "      <td>Regular customer</td>\n",
       "      <td>both</td>\n",
       "    </tr>\n",
       "    <tr>\n",
       "      <th>2</th>\n",
       "      <td>26711</td>\n",
       "      <td>Deborah</td>\n",
       "      <td>Esquivel</td>\n",
       "      <td>Female</td>\n",
       "      <td>Missouri</td>\n",
       "      <td>48</td>\n",
       "      <td>1/1/2017</td>\n",
       "      <td>3</td>\n",
       "      <td>married</td>\n",
       "      <td>165665</td>\n",
       "      <td>...</td>\n",
       "      <td>False</td>\n",
       "      <td>2</td>\n",
       "      <td>1</td>\n",
       "      <td>8</td>\n",
       "      <td>New customer</td>\n",
       "      <td>7.988889</td>\n",
       "      <td>Low spender</td>\n",
       "      <td>19.0</td>\n",
       "      <td>Regular customer</td>\n",
       "      <td>both</td>\n",
       "    </tr>\n",
       "    <tr>\n",
       "      <th>3</th>\n",
       "      <td>26711</td>\n",
       "      <td>Deborah</td>\n",
       "      <td>Esquivel</td>\n",
       "      <td>Female</td>\n",
       "      <td>Missouri</td>\n",
       "      <td>48</td>\n",
       "      <td>1/1/2017</td>\n",
       "      <td>3</td>\n",
       "      <td>married</td>\n",
       "      <td>165665</td>\n",
       "      <td>...</td>\n",
       "      <td>True</td>\n",
       "      <td>1</td>\n",
       "      <td>0</td>\n",
       "      <td>8</td>\n",
       "      <td>New customer</td>\n",
       "      <td>7.988889</td>\n",
       "      <td>Low spender</td>\n",
       "      <td>19.0</td>\n",
       "      <td>Regular customer</td>\n",
       "      <td>both</td>\n",
       "    </tr>\n",
       "    <tr>\n",
       "      <th>4</th>\n",
       "      <td>26711</td>\n",
       "      <td>Deborah</td>\n",
       "      <td>Esquivel</td>\n",
       "      <td>Female</td>\n",
       "      <td>Missouri</td>\n",
       "      <td>48</td>\n",
       "      <td>1/1/2017</td>\n",
       "      <td>3</td>\n",
       "      <td>married</td>\n",
       "      <td>165665</td>\n",
       "      <td>...</td>\n",
       "      <td>False</td>\n",
       "      <td>2</td>\n",
       "      <td>1</td>\n",
       "      <td>8</td>\n",
       "      <td>New customer</td>\n",
       "      <td>7.988889</td>\n",
       "      <td>Low spender</td>\n",
       "      <td>19.0</td>\n",
       "      <td>Regular customer</td>\n",
       "      <td>both</td>\n",
       "    </tr>\n",
       "  </tbody>\n",
       "</table>\n",
       "<p>5 rows × 30 columns</p>\n",
       "</div>"
      ],
      "text/plain": [
       "  user_id first_name   surname  gender     state  age date_joined  \\\n",
       "0   26711    Deborah  Esquivel  Female  Missouri   48    1/1/2017   \n",
       "1   26711    Deborah  Esquivel  Female  Missouri   48    1/1/2017   \n",
       "2   26711    Deborah  Esquivel  Female  Missouri   48    1/1/2017   \n",
       "3   26711    Deborah  Esquivel  Female  Missouri   48    1/1/2017   \n",
       "4   26711    Deborah  Esquivel  Female  Missouri   48    1/1/2017   \n",
       "\n",
       "   n_dependants fam_status  income  ... first_time_order add_to_cart_order  \\\n",
       "0             3    married  165665  ...            False                 2   \n",
       "1             3    married  165665  ...            False                 1   \n",
       "2             3    married  165665  ...            False                 2   \n",
       "3             3    married  165665  ...             True                 1   \n",
       "4             3    married  165665  ...            False                 2   \n",
       "\n",
       "  reordered  max_order  loyalty_flag average_price  spending_flag  \\\n",
       "0         0          8  New customer      7.988889    Low spender   \n",
       "1         1          8  New customer      7.988889    Low spender   \n",
       "2         1          8  New customer      7.988889    Low spender   \n",
       "3         0          8  New customer      7.988889    Low spender   \n",
       "4         1          8  New customer      7.988889    Low spender   \n",
       "\n",
       "  median_days_since_prior_order  order_frequency_flag  _merge  \n",
       "0                          19.0      Regular customer    both  \n",
       "1                          19.0      Regular customer    both  \n",
       "2                          19.0      Regular customer    both  \n",
       "3                          19.0      Regular customer    both  \n",
       "4                          19.0      Regular customer    both  \n",
       "\n",
       "[5 rows x 30 columns]"
      ]
     },
     "execution_count": 6,
     "metadata": {},
     "output_type": "execute_result"
    }
   ],
   "source": [
    "cust_ords_prods_merge.head()"
   ]
  },
  {
   "cell_type": "code",
   "execution_count": 7,
   "id": "772c0f0a",
   "metadata": {},
   "outputs": [
    {
     "name": "stdout",
     "output_type": "stream",
     "text": [
      "<class 'pandas.core.frame.DataFrame'>\n",
      "Int64Index: 32404859 entries, 0 to 32404858\n",
      "Data columns (total 30 columns):\n",
      " #   Column                         Dtype   \n",
      "---  ------                         -----   \n",
      " 0   user_id                        object  \n",
      " 1   first_name                     object  \n",
      " 2   surname                        object  \n",
      " 3   gender                         object  \n",
      " 4   state                          object  \n",
      " 5   age                            int64   \n",
      " 6   date_joined                    object  \n",
      " 7   n_dependants                   int64   \n",
      " 8   fam_status                     object  \n",
      " 9   income                         int64   \n",
      " 10  product_id                     object  \n",
      " 11  product_name                   object  \n",
      " 12  aisle_id                       object  \n",
      " 13  department_id                  int64   \n",
      " 14  prices                         float64 \n",
      " 15  order_id                       object  \n",
      " 16  order_number                   int64   \n",
      " 17  orders_day_of_week             object  \n",
      " 18  order_hour_of_day              int64   \n",
      " 19  days_since_prior_order         float64 \n",
      " 20  first_time_order               bool    \n",
      " 21  add_to_cart_order              int64   \n",
      " 22  reordered                      int64   \n",
      " 23  max_order                      int64   \n",
      " 24  loyalty_flag                   object  \n",
      " 25  average_price                  float64 \n",
      " 26  spending_flag                  object  \n",
      " 27  median_days_since_prior_order  float64 \n",
      " 28  order_frequency_flag           object  \n",
      " 29  _merge                         category\n",
      "dtypes: bool(1), category(1), float64(4), int64(9), object(15)\n",
      "memory usage: 7.1+ GB\n"
     ]
    }
   ],
   "source": [
    "cust_ords_prods_merge.info()"
   ]
  },
  {
   "cell_type": "code",
   "execution_count": 8,
   "id": "65abc180",
   "metadata": {},
   "outputs": [
    {
     "data": {
      "text/plain": [
       "(21, 1)"
      ]
     },
     "execution_count": 8,
     "metadata": {},
     "output_type": "execute_result"
    }
   ],
   "source": [
    "departments.shape"
   ]
  },
  {
   "cell_type": "code",
   "execution_count": 9,
   "id": "a73a6b81",
   "metadata": {},
   "outputs": [
    {
     "data": {
      "text/html": [
       "<div>\n",
       "<style scoped>\n",
       "    .dataframe tbody tr th:only-of-type {\n",
       "        vertical-align: middle;\n",
       "    }\n",
       "\n",
       "    .dataframe tbody tr th {\n",
       "        vertical-align: top;\n",
       "    }\n",
       "\n",
       "    .dataframe thead th {\n",
       "        text-align: right;\n",
       "    }\n",
       "</style>\n",
       "<table border=\"1\" class=\"dataframe\">\n",
       "  <thead>\n",
       "    <tr style=\"text-align: right;\">\n",
       "      <th></th>\n",
       "      <th>department</th>\n",
       "    </tr>\n",
       "  </thead>\n",
       "  <tbody>\n",
       "    <tr>\n",
       "      <th>1</th>\n",
       "      <td>frozen</td>\n",
       "    </tr>\n",
       "    <tr>\n",
       "      <th>2</th>\n",
       "      <td>other</td>\n",
       "    </tr>\n",
       "    <tr>\n",
       "      <th>3</th>\n",
       "      <td>bakery</td>\n",
       "    </tr>\n",
       "    <tr>\n",
       "      <th>4</th>\n",
       "      <td>produce</td>\n",
       "    </tr>\n",
       "    <tr>\n",
       "      <th>5</th>\n",
       "      <td>alcohol</td>\n",
       "    </tr>\n",
       "    <tr>\n",
       "      <th>6</th>\n",
       "      <td>international</td>\n",
       "    </tr>\n",
       "    <tr>\n",
       "      <th>7</th>\n",
       "      <td>beverages</td>\n",
       "    </tr>\n",
       "    <tr>\n",
       "      <th>8</th>\n",
       "      <td>pets</td>\n",
       "    </tr>\n",
       "    <tr>\n",
       "      <th>9</th>\n",
       "      <td>dry goods pasta</td>\n",
       "    </tr>\n",
       "    <tr>\n",
       "      <th>10</th>\n",
       "      <td>bulk</td>\n",
       "    </tr>\n",
       "    <tr>\n",
       "      <th>11</th>\n",
       "      <td>personal care</td>\n",
       "    </tr>\n",
       "    <tr>\n",
       "      <th>12</th>\n",
       "      <td>meat seafood</td>\n",
       "    </tr>\n",
       "    <tr>\n",
       "      <th>13</th>\n",
       "      <td>pantry</td>\n",
       "    </tr>\n",
       "    <tr>\n",
       "      <th>14</th>\n",
       "      <td>breakfast</td>\n",
       "    </tr>\n",
       "    <tr>\n",
       "      <th>15</th>\n",
       "      <td>canned goods</td>\n",
       "    </tr>\n",
       "    <tr>\n",
       "      <th>16</th>\n",
       "      <td>dairy eggs</td>\n",
       "    </tr>\n",
       "    <tr>\n",
       "      <th>17</th>\n",
       "      <td>household</td>\n",
       "    </tr>\n",
       "    <tr>\n",
       "      <th>18</th>\n",
       "      <td>babies</td>\n",
       "    </tr>\n",
       "    <tr>\n",
       "      <th>19</th>\n",
       "      <td>snacks</td>\n",
       "    </tr>\n",
       "    <tr>\n",
       "      <th>20</th>\n",
       "      <td>deli</td>\n",
       "    </tr>\n",
       "    <tr>\n",
       "      <th>21</th>\n",
       "      <td>missing</td>\n",
       "    </tr>\n",
       "  </tbody>\n",
       "</table>\n",
       "</div>"
      ],
      "text/plain": [
       "         department\n",
       "1            frozen\n",
       "2             other\n",
       "3            bakery\n",
       "4           produce\n",
       "5           alcohol\n",
       "6     international\n",
       "7         beverages\n",
       "8              pets\n",
       "9   dry goods pasta\n",
       "10             bulk\n",
       "11    personal care\n",
       "12     meat seafood\n",
       "13           pantry\n",
       "14        breakfast\n",
       "15     canned goods\n",
       "16       dairy eggs\n",
       "17        household\n",
       "18           babies\n",
       "19           snacks\n",
       "20             deli\n",
       "21          missing"
      ]
     },
     "execution_count": 9,
     "metadata": {},
     "output_type": "execute_result"
    }
   ],
   "source": [
    "departments.head(21)"
   ]
  },
  {
   "cell_type": "markdown",
   "id": "2e8c312c",
   "metadata": {},
   "source": [
    "# Merge cust_ords_prods_merge and departments "
   ]
  },
  {
   "cell_type": "code",
   "execution_count": 10,
   "id": "ce746359",
   "metadata": {},
   "outputs": [],
   "source": [
    " cust_ords_prods_merge = cust_ords_prods_merge.merge(departments, left_on = 'department_id', how = 'inner', right_index = True)"
   ]
  },
  {
   "cell_type": "code",
   "execution_count": 11,
   "id": "77308d5b",
   "metadata": {},
   "outputs": [
    {
     "data": {
      "text/html": [
       "<div>\n",
       "<style scoped>\n",
       "    .dataframe tbody tr th:only-of-type {\n",
       "        vertical-align: middle;\n",
       "    }\n",
       "\n",
       "    .dataframe tbody tr th {\n",
       "        vertical-align: top;\n",
       "    }\n",
       "\n",
       "    .dataframe thead th {\n",
       "        text-align: right;\n",
       "    }\n",
       "</style>\n",
       "<table border=\"1\" class=\"dataframe\">\n",
       "  <thead>\n",
       "    <tr style=\"text-align: right;\">\n",
       "      <th></th>\n",
       "      <th>user_id</th>\n",
       "      <th>first_name</th>\n",
       "      <th>surname</th>\n",
       "      <th>gender</th>\n",
       "      <th>state</th>\n",
       "      <th>age</th>\n",
       "      <th>date_joined</th>\n",
       "      <th>n_dependants</th>\n",
       "      <th>fam_status</th>\n",
       "      <th>income</th>\n",
       "      <th>...</th>\n",
       "      <th>add_to_cart_order</th>\n",
       "      <th>reordered</th>\n",
       "      <th>max_order</th>\n",
       "      <th>loyalty_flag</th>\n",
       "      <th>average_price</th>\n",
       "      <th>spending_flag</th>\n",
       "      <th>median_days_since_prior_order</th>\n",
       "      <th>order_frequency_flag</th>\n",
       "      <th>_merge</th>\n",
       "      <th>department</th>\n",
       "    </tr>\n",
       "  </thead>\n",
       "  <tbody>\n",
       "    <tr>\n",
       "      <th>0</th>\n",
       "      <td>26711</td>\n",
       "      <td>Deborah</td>\n",
       "      <td>Esquivel</td>\n",
       "      <td>Female</td>\n",
       "      <td>Missouri</td>\n",
       "      <td>48</td>\n",
       "      <td>1/1/2017</td>\n",
       "      <td>3</td>\n",
       "      <td>married</td>\n",
       "      <td>165665</td>\n",
       "      <td>...</td>\n",
       "      <td>2</td>\n",
       "      <td>0</td>\n",
       "      <td>8</td>\n",
       "      <td>New customer</td>\n",
       "      <td>7.988889</td>\n",
       "      <td>Low spender</td>\n",
       "      <td>19.0</td>\n",
       "      <td>Regular customer</td>\n",
       "      <td>both</td>\n",
       "      <td>beverages</td>\n",
       "    </tr>\n",
       "    <tr>\n",
       "      <th>1</th>\n",
       "      <td>26711</td>\n",
       "      <td>Deborah</td>\n",
       "      <td>Esquivel</td>\n",
       "      <td>Female</td>\n",
       "      <td>Missouri</td>\n",
       "      <td>48</td>\n",
       "      <td>1/1/2017</td>\n",
       "      <td>3</td>\n",
       "      <td>married</td>\n",
       "      <td>165665</td>\n",
       "      <td>...</td>\n",
       "      <td>1</td>\n",
       "      <td>1</td>\n",
       "      <td>8</td>\n",
       "      <td>New customer</td>\n",
       "      <td>7.988889</td>\n",
       "      <td>Low spender</td>\n",
       "      <td>19.0</td>\n",
       "      <td>Regular customer</td>\n",
       "      <td>both</td>\n",
       "      <td>beverages</td>\n",
       "    </tr>\n",
       "    <tr>\n",
       "      <th>2</th>\n",
       "      <td>26711</td>\n",
       "      <td>Deborah</td>\n",
       "      <td>Esquivel</td>\n",
       "      <td>Female</td>\n",
       "      <td>Missouri</td>\n",
       "      <td>48</td>\n",
       "      <td>1/1/2017</td>\n",
       "      <td>3</td>\n",
       "      <td>married</td>\n",
       "      <td>165665</td>\n",
       "      <td>...</td>\n",
       "      <td>2</td>\n",
       "      <td>1</td>\n",
       "      <td>8</td>\n",
       "      <td>New customer</td>\n",
       "      <td>7.988889</td>\n",
       "      <td>Low spender</td>\n",
       "      <td>19.0</td>\n",
       "      <td>Regular customer</td>\n",
       "      <td>both</td>\n",
       "      <td>beverages</td>\n",
       "    </tr>\n",
       "    <tr>\n",
       "      <th>18</th>\n",
       "      <td>33890</td>\n",
       "      <td>Patricia</td>\n",
       "      <td>Hart</td>\n",
       "      <td>Female</td>\n",
       "      <td>New Mexico</td>\n",
       "      <td>36</td>\n",
       "      <td>1/1/2017</td>\n",
       "      <td>0</td>\n",
       "      <td>single</td>\n",
       "      <td>59285</td>\n",
       "      <td>...</td>\n",
       "      <td>1</td>\n",
       "      <td>0</td>\n",
       "      <td>12</td>\n",
       "      <td>Regular customer</td>\n",
       "      <td>7.057534</td>\n",
       "      <td>Low spender</td>\n",
       "      <td>26.0</td>\n",
       "      <td>Non-frequent customer</td>\n",
       "      <td>both</td>\n",
       "      <td>beverages</td>\n",
       "    </tr>\n",
       "    <tr>\n",
       "      <th>19</th>\n",
       "      <td>33890</td>\n",
       "      <td>Patricia</td>\n",
       "      <td>Hart</td>\n",
       "      <td>Female</td>\n",
       "      <td>New Mexico</td>\n",
       "      <td>36</td>\n",
       "      <td>1/1/2017</td>\n",
       "      <td>0</td>\n",
       "      <td>single</td>\n",
       "      <td>59285</td>\n",
       "      <td>...</td>\n",
       "      <td>6</td>\n",
       "      <td>1</td>\n",
       "      <td>12</td>\n",
       "      <td>Regular customer</td>\n",
       "      <td>7.057534</td>\n",
       "      <td>Low spender</td>\n",
       "      <td>26.0</td>\n",
       "      <td>Non-frequent customer</td>\n",
       "      <td>both</td>\n",
       "      <td>beverages</td>\n",
       "    </tr>\n",
       "  </tbody>\n",
       "</table>\n",
       "<p>5 rows × 31 columns</p>\n",
       "</div>"
      ],
      "text/plain": [
       "   user_id first_name   surname  gender       state  age date_joined  \\\n",
       "0    26711    Deborah  Esquivel  Female    Missouri   48    1/1/2017   \n",
       "1    26711    Deborah  Esquivel  Female    Missouri   48    1/1/2017   \n",
       "2    26711    Deborah  Esquivel  Female    Missouri   48    1/1/2017   \n",
       "18   33890   Patricia      Hart  Female  New Mexico   36    1/1/2017   \n",
       "19   33890   Patricia      Hart  Female  New Mexico   36    1/1/2017   \n",
       "\n",
       "    n_dependants fam_status  income  ... add_to_cart_order reordered  \\\n",
       "0              3    married  165665  ...                 2         0   \n",
       "1              3    married  165665  ...                 1         1   \n",
       "2              3    married  165665  ...                 2         1   \n",
       "18             0     single   59285  ...                 1         0   \n",
       "19             0     single   59285  ...                 6         1   \n",
       "\n",
       "   max_order      loyalty_flag  average_price spending_flag  \\\n",
       "0          8      New customer       7.988889   Low spender   \n",
       "1          8      New customer       7.988889   Low spender   \n",
       "2          8      New customer       7.988889   Low spender   \n",
       "18        12  Regular customer       7.057534   Low spender   \n",
       "19        12  Regular customer       7.057534   Low spender   \n",
       "\n",
       "    median_days_since_prior_order   order_frequency_flag  _merge  department  \n",
       "0                            19.0       Regular customer    both   beverages  \n",
       "1                            19.0       Regular customer    both   beverages  \n",
       "2                            19.0       Regular customer    both   beverages  \n",
       "18                           26.0  Non-frequent customer    both   beverages  \n",
       "19                           26.0  Non-frequent customer    both   beverages  \n",
       "\n",
       "[5 rows x 31 columns]"
      ]
     },
     "execution_count": 11,
     "metadata": {},
     "output_type": "execute_result"
    }
   ],
   "source": [
    "cust_ords_prods_merge.head()"
   ]
  },
  {
   "cell_type": "code",
   "execution_count": 12,
   "id": "06dc8e14",
   "metadata": {},
   "outputs": [
    {
     "data": {
      "text/html": [
       "<div>\n",
       "<style scoped>\n",
       "    .dataframe tbody tr th:only-of-type {\n",
       "        vertical-align: middle;\n",
       "    }\n",
       "\n",
       "    .dataframe tbody tr th {\n",
       "        vertical-align: top;\n",
       "    }\n",
       "\n",
       "    .dataframe thead th {\n",
       "        text-align: right;\n",
       "    }\n",
       "</style>\n",
       "<table border=\"1\" class=\"dataframe\">\n",
       "  <thead>\n",
       "    <tr style=\"text-align: right;\">\n",
       "      <th></th>\n",
       "      <th>product_id</th>\n",
       "      <th>product_name</th>\n",
       "      <th>department_id</th>\n",
       "      <th>department</th>\n",
       "    </tr>\n",
       "  </thead>\n",
       "  <tbody>\n",
       "    <tr>\n",
       "      <th>0</th>\n",
       "      <td>196</td>\n",
       "      <td>Soda</td>\n",
       "      <td>7</td>\n",
       "      <td>beverages</td>\n",
       "    </tr>\n",
       "    <tr>\n",
       "      <th>1</th>\n",
       "      <td>196</td>\n",
       "      <td>Soda</td>\n",
       "      <td>7</td>\n",
       "      <td>beverages</td>\n",
       "    </tr>\n",
       "    <tr>\n",
       "      <th>2</th>\n",
       "      <td>196</td>\n",
       "      <td>Soda</td>\n",
       "      <td>7</td>\n",
       "      <td>beverages</td>\n",
       "    </tr>\n",
       "    <tr>\n",
       "      <th>18</th>\n",
       "      <td>196</td>\n",
       "      <td>Soda</td>\n",
       "      <td>7</td>\n",
       "      <td>beverages</td>\n",
       "    </tr>\n",
       "    <tr>\n",
       "      <th>19</th>\n",
       "      <td>196</td>\n",
       "      <td>Soda</td>\n",
       "      <td>7</td>\n",
       "      <td>beverages</td>\n",
       "    </tr>\n",
       "  </tbody>\n",
       "</table>\n",
       "</div>"
      ],
      "text/plain": [
       "   product_id product_name  department_id department\n",
       "0         196         Soda              7  beverages\n",
       "1         196         Soda              7  beverages\n",
       "2         196         Soda              7  beverages\n",
       "18        196         Soda              7  beverages\n",
       "19        196         Soda              7  beverages"
      ]
     },
     "execution_count": 12,
     "metadata": {},
     "output_type": "execute_result"
    }
   ],
   "source": [
    "cust_ords_prods_merge[['product_id','product_name','department_id','department']].head()"
   ]
  },
  {
   "cell_type": "code",
   "execution_count": 13,
   "id": "40783f63",
   "metadata": {},
   "outputs": [
    {
     "data": {
      "text/plain": [
       "(32404859, 31)"
      ]
     },
     "execution_count": 13,
     "metadata": {},
     "output_type": "execute_result"
    }
   ],
   "source": [
    "cust_ords_prods_merge.shape"
   ]
  },
  {
   "cell_type": "markdown",
   "id": "db1dc2b6",
   "metadata": {},
   "source": [
    "# Address PII data"
   ]
  },
  {
   "cell_type": "code",
   "execution_count": 14,
   "id": "f8a8d7c6",
   "metadata": {},
   "outputs": [],
   "source": [
    "# drop first_name and surname columns because of any possible security implications \n",
    "# drop '_merge' because it is irrelevant for the future analysis \n",
    "\n",
    "cust_ords_prods_merge = cust_ords_prods_merge.drop(columns=['first_name', 'surname', '_merge']) "
   ]
  },
  {
   "cell_type": "code",
   "execution_count": 15,
   "id": "918072b8",
   "metadata": {},
   "outputs": [
    {
     "data": {
      "text/plain": [
       "(32404859, 28)"
      ]
     },
     "execution_count": 15,
     "metadata": {},
     "output_type": "execute_result"
    }
   ],
   "source": [
    "cust_ords_prods_merge.shape"
   ]
  },
  {
   "cell_type": "markdown",
   "id": "86da6d6a",
   "metadata": {},
   "source": [
    "# Regional segmentation"
   ]
  },
  {
   "cell_type": "code",
   "execution_count": 16,
   "id": "50fd79fd",
   "metadata": {},
   "outputs": [],
   "source": [
    "# create a regional segmentation of the data\n",
    "\n",
    "regions = {'Maine' : 'Northeast', 'New Hampshire' : 'Northeast', 'Vermont' : 'Northeast', 'Massachusetts' : 'Northeast', 'Rhode Island' : 'Northeast', 'Connecticut' : 'Northeast', 'New York' : 'Northeast', 'Pennsylvania' : 'Northeast', 'New Jersey': 'Northeast',\n",
    "         \n",
    "         'Wisconsin' : 'Midwest', 'Michigan' : 'Midwest', 'Illinois' : 'Midwest', 'Indiana' : 'Midwest', 'Ohio' : 'Midwest', 'North Dakota' : 'Midwest', 'South Dakota' : 'Midwest', 'Nebraska' : 'Midwest', 'Kansas' : 'Midwest', 'Minnesota' : 'Midwest', 'Iowa' : 'Midwest', 'Missouri' : 'Midwest',\n",
    "          \n",
    "         'Delaware' : 'South', 'Maryland' : 'South', 'District of Columbia' : 'South', 'Virginia' : 'South', 'West Virginia' : 'South', 'North Carolina' : 'South', 'South Carolina' : 'South', 'Georgia' : 'South','Florida' : 'South', 'Kentucky' : 'South', 'Tennessee' : 'South', 'Mississippi' : 'South','Alabama' : 'South','Oklahoma' : 'South', 'Texas' : 'South', 'Arkansas' : 'South', 'Louisiana' : 'South',\n",
    "         \n",
    "         'Idaho' : 'West', 'Montana' : 'West', 'Wyoming' : 'West', 'Nevada' : 'West', 'Utah' : 'West', 'Colorado' : 'West', 'Arizona' : 'West', 'New Mexico' : 'West', 'Alaska' : 'West', 'Washington' : 'West','Oregon' : 'West','California' : 'West', 'Hawaii' : 'West'\n",
    "         }"
   ]
  },
  {
   "cell_type": "code",
   "execution_count": 17,
   "id": "b23ad215",
   "metadata": {},
   "outputs": [],
   "source": [
    "# define function get_region\n",
    "\n",
    "def get_region(state):\n",
    "    return regions[state]"
   ]
  },
  {
   "cell_type": "code",
   "execution_count": 18,
   "id": "558aa74a",
   "metadata": {},
   "outputs": [],
   "source": [
    "cust_ords_prods_merge['region'] = cust_ords_prods_merge['state'].apply(get_region)"
   ]
  },
  {
   "cell_type": "code",
   "execution_count": 19,
   "id": "edf44e0d",
   "metadata": {},
   "outputs": [
    {
     "data": {
      "text/html": [
       "<div>\n",
       "<style scoped>\n",
       "    .dataframe tbody tr th:only-of-type {\n",
       "        vertical-align: middle;\n",
       "    }\n",
       "\n",
       "    .dataframe tbody tr th {\n",
       "        vertical-align: top;\n",
       "    }\n",
       "\n",
       "    .dataframe thead th {\n",
       "        text-align: right;\n",
       "    }\n",
       "</style>\n",
       "<table border=\"1\" class=\"dataframe\">\n",
       "  <thead>\n",
       "    <tr style=\"text-align: right;\">\n",
       "      <th></th>\n",
       "      <th>user_id</th>\n",
       "      <th>gender</th>\n",
       "      <th>state</th>\n",
       "      <th>age</th>\n",
       "      <th>date_joined</th>\n",
       "      <th>n_dependants</th>\n",
       "      <th>fam_status</th>\n",
       "      <th>income</th>\n",
       "      <th>product_id</th>\n",
       "      <th>product_name</th>\n",
       "      <th>...</th>\n",
       "      <th>add_to_cart_order</th>\n",
       "      <th>reordered</th>\n",
       "      <th>max_order</th>\n",
       "      <th>loyalty_flag</th>\n",
       "      <th>average_price</th>\n",
       "      <th>spending_flag</th>\n",
       "      <th>median_days_since_prior_order</th>\n",
       "      <th>order_frequency_flag</th>\n",
       "      <th>department</th>\n",
       "      <th>region</th>\n",
       "    </tr>\n",
       "  </thead>\n",
       "  <tbody>\n",
       "    <tr>\n",
       "      <th>0</th>\n",
       "      <td>26711</td>\n",
       "      <td>Female</td>\n",
       "      <td>Missouri</td>\n",
       "      <td>48</td>\n",
       "      <td>1/1/2017</td>\n",
       "      <td>3</td>\n",
       "      <td>married</td>\n",
       "      <td>165665</td>\n",
       "      <td>196</td>\n",
       "      <td>Soda</td>\n",
       "      <td>...</td>\n",
       "      <td>2</td>\n",
       "      <td>0</td>\n",
       "      <td>8</td>\n",
       "      <td>New customer</td>\n",
       "      <td>7.988889</td>\n",
       "      <td>Low spender</td>\n",
       "      <td>19.0</td>\n",
       "      <td>Regular customer</td>\n",
       "      <td>beverages</td>\n",
       "      <td>Midwest</td>\n",
       "    </tr>\n",
       "    <tr>\n",
       "      <th>1</th>\n",
       "      <td>26711</td>\n",
       "      <td>Female</td>\n",
       "      <td>Missouri</td>\n",
       "      <td>48</td>\n",
       "      <td>1/1/2017</td>\n",
       "      <td>3</td>\n",
       "      <td>married</td>\n",
       "      <td>165665</td>\n",
       "      <td>196</td>\n",
       "      <td>Soda</td>\n",
       "      <td>...</td>\n",
       "      <td>1</td>\n",
       "      <td>1</td>\n",
       "      <td>8</td>\n",
       "      <td>New customer</td>\n",
       "      <td>7.988889</td>\n",
       "      <td>Low spender</td>\n",
       "      <td>19.0</td>\n",
       "      <td>Regular customer</td>\n",
       "      <td>beverages</td>\n",
       "      <td>Midwest</td>\n",
       "    </tr>\n",
       "    <tr>\n",
       "      <th>2</th>\n",
       "      <td>26711</td>\n",
       "      <td>Female</td>\n",
       "      <td>Missouri</td>\n",
       "      <td>48</td>\n",
       "      <td>1/1/2017</td>\n",
       "      <td>3</td>\n",
       "      <td>married</td>\n",
       "      <td>165665</td>\n",
       "      <td>196</td>\n",
       "      <td>Soda</td>\n",
       "      <td>...</td>\n",
       "      <td>2</td>\n",
       "      <td>1</td>\n",
       "      <td>8</td>\n",
       "      <td>New customer</td>\n",
       "      <td>7.988889</td>\n",
       "      <td>Low spender</td>\n",
       "      <td>19.0</td>\n",
       "      <td>Regular customer</td>\n",
       "      <td>beverages</td>\n",
       "      <td>Midwest</td>\n",
       "    </tr>\n",
       "    <tr>\n",
       "      <th>18</th>\n",
       "      <td>33890</td>\n",
       "      <td>Female</td>\n",
       "      <td>New Mexico</td>\n",
       "      <td>36</td>\n",
       "      <td>1/1/2017</td>\n",
       "      <td>0</td>\n",
       "      <td>single</td>\n",
       "      <td>59285</td>\n",
       "      <td>196</td>\n",
       "      <td>Soda</td>\n",
       "      <td>...</td>\n",
       "      <td>1</td>\n",
       "      <td>0</td>\n",
       "      <td>12</td>\n",
       "      <td>Regular customer</td>\n",
       "      <td>7.057534</td>\n",
       "      <td>Low spender</td>\n",
       "      <td>26.0</td>\n",
       "      <td>Non-frequent customer</td>\n",
       "      <td>beverages</td>\n",
       "      <td>West</td>\n",
       "    </tr>\n",
       "    <tr>\n",
       "      <th>19</th>\n",
       "      <td>33890</td>\n",
       "      <td>Female</td>\n",
       "      <td>New Mexico</td>\n",
       "      <td>36</td>\n",
       "      <td>1/1/2017</td>\n",
       "      <td>0</td>\n",
       "      <td>single</td>\n",
       "      <td>59285</td>\n",
       "      <td>196</td>\n",
       "      <td>Soda</td>\n",
       "      <td>...</td>\n",
       "      <td>6</td>\n",
       "      <td>1</td>\n",
       "      <td>12</td>\n",
       "      <td>Regular customer</td>\n",
       "      <td>7.057534</td>\n",
       "      <td>Low spender</td>\n",
       "      <td>26.0</td>\n",
       "      <td>Non-frequent customer</td>\n",
       "      <td>beverages</td>\n",
       "      <td>West</td>\n",
       "    </tr>\n",
       "  </tbody>\n",
       "</table>\n",
       "<p>5 rows × 29 columns</p>\n",
       "</div>"
      ],
      "text/plain": [
       "   user_id  gender       state  age date_joined  n_dependants fam_status  \\\n",
       "0    26711  Female    Missouri   48    1/1/2017             3    married   \n",
       "1    26711  Female    Missouri   48    1/1/2017             3    married   \n",
       "2    26711  Female    Missouri   48    1/1/2017             3    married   \n",
       "18   33890  Female  New Mexico   36    1/1/2017             0     single   \n",
       "19   33890  Female  New Mexico   36    1/1/2017             0     single   \n",
       "\n",
       "    income product_id product_name  ... add_to_cart_order  reordered  \\\n",
       "0   165665        196         Soda  ...                 2          0   \n",
       "1   165665        196         Soda  ...                 1          1   \n",
       "2   165665        196         Soda  ...                 2          1   \n",
       "18   59285        196         Soda  ...                 1          0   \n",
       "19   59285        196         Soda  ...                 6          1   \n",
       "\n",
       "    max_order      loyalty_flag  average_price spending_flag  \\\n",
       "0           8      New customer       7.988889   Low spender   \n",
       "1           8      New customer       7.988889   Low spender   \n",
       "2           8      New customer       7.988889   Low spender   \n",
       "18         12  Regular customer       7.057534   Low spender   \n",
       "19         12  Regular customer       7.057534   Low spender   \n",
       "\n",
       "    median_days_since_prior_order   order_frequency_flag  department   region  \n",
       "0                            19.0       Regular customer   beverages  Midwest  \n",
       "1                            19.0       Regular customer   beverages  Midwest  \n",
       "2                            19.0       Regular customer   beverages  Midwest  \n",
       "18                           26.0  Non-frequent customer   beverages     West  \n",
       "19                           26.0  Non-frequent customer   beverages     West  \n",
       "\n",
       "[5 rows x 29 columns]"
      ]
     },
     "execution_count": 19,
     "metadata": {},
     "output_type": "execute_result"
    }
   ],
   "source": [
    "cust_ords_prods_merge.head()"
   ]
  },
  {
   "cell_type": "code",
   "execution_count": 20,
   "id": "3f277ae7",
   "metadata": {},
   "outputs": [
    {
     "data": {
      "text/plain": [
       "0"
      ]
     },
     "execution_count": 20,
     "metadata": {},
     "output_type": "execute_result"
    }
   ],
   "source": [
    "# check for missing value in the column 'region'\n",
    "\n",
    "cust_ords_prods_merge['region'].isnull().sum()"
   ]
  },
  {
   "cell_type": "code",
   "execution_count": 21,
   "id": "8ebf4405",
   "metadata": {},
   "outputs": [
    {
     "data": {
      "text/plain": [
       "South        10791885\n",
       "West          8292913\n",
       "Midwest       7597325\n",
       "Northeast     5722736\n",
       "Name: region, dtype: int64"
      ]
     },
     "execution_count": 21,
     "metadata": {},
     "output_type": "execute_result"
    }
   ],
   "source": [
    "# count values for each region\n",
    "\n",
    "cust_ords_prods_merge['region'].value_counts(dropna = False)"
   ]
  },
  {
   "cell_type": "code",
   "execution_count": 22,
   "id": "8d16b773",
   "metadata": {},
   "outputs": [
    {
     "data": {
      "text/html": [
       "<div>\n",
       "<style scoped>\n",
       "    .dataframe tbody tr th:only-of-type {\n",
       "        vertical-align: middle;\n",
       "    }\n",
       "\n",
       "    .dataframe tbody tr th {\n",
       "        vertical-align: top;\n",
       "    }\n",
       "\n",
       "    .dataframe thead th {\n",
       "        text-align: right;\n",
       "    }\n",
       "</style>\n",
       "<table border=\"1\" class=\"dataframe\">\n",
       "  <thead>\n",
       "    <tr style=\"text-align: right;\">\n",
       "      <th>spending_flag</th>\n",
       "      <th>High spender</th>\n",
       "      <th>Low spender</th>\n",
       "    </tr>\n",
       "    <tr>\n",
       "      <th>region</th>\n",
       "      <th></th>\n",
       "      <th></th>\n",
       "    </tr>\n",
       "  </thead>\n",
       "  <tbody>\n",
       "    <tr>\n",
       "      <th>Midwest</th>\n",
       "      <td>29265</td>\n",
       "      <td>7568060</td>\n",
       "    </tr>\n",
       "    <tr>\n",
       "      <th>Northeast</th>\n",
       "      <td>18642</td>\n",
       "      <td>5704094</td>\n",
       "    </tr>\n",
       "    <tr>\n",
       "      <th>South</th>\n",
       "      <td>40579</td>\n",
       "      <td>10751306</td>\n",
       "    </tr>\n",
       "    <tr>\n",
       "      <th>West</th>\n",
       "      <td>31242</td>\n",
       "      <td>8261671</td>\n",
       "    </tr>\n",
       "  </tbody>\n",
       "</table>\n",
       "</div>"
      ],
      "text/plain": [
       "spending_flag  High spender  Low spender\n",
       "region                                  \n",
       "Midwest               29265      7568060\n",
       "Northeast             18642      5704094\n",
       "South                 40579     10751306\n",
       "West                  31242      8261671"
      ]
     },
     "execution_count": 22,
     "metadata": {},
     "output_type": "execute_result"
    }
   ],
   "source": [
    "# check the spending habits between the different U.S. regions\n",
    "\n",
    "spending_habits = pd.crosstab(cust_ords_prods_merge['region'], cust_ords_prods_merge['spending_flag'], dropna = False)\n",
    "spending_habits"
   ]
  },
  {
   "cell_type": "code",
   "execution_count": 23,
   "id": "d8c59f69",
   "metadata": {},
   "outputs": [
    {
     "data": {
      "text/html": [
       "<div>\n",
       "<style scoped>\n",
       "    .dataframe tbody tr th:only-of-type {\n",
       "        vertical-align: middle;\n",
       "    }\n",
       "\n",
       "    .dataframe tbody tr th {\n",
       "        vertical-align: top;\n",
       "    }\n",
       "\n",
       "    .dataframe thead th {\n",
       "        text-align: right;\n",
       "    }\n",
       "</style>\n",
       "<table border=\"1\" class=\"dataframe\">\n",
       "  <thead>\n",
       "    <tr style=\"text-align: right;\">\n",
       "      <th></th>\n",
       "      <th>product_id</th>\n",
       "    </tr>\n",
       "    <tr>\n",
       "      <th>region</th>\n",
       "      <th></th>\n",
       "    </tr>\n",
       "  </thead>\n",
       "  <tbody>\n",
       "    <tr>\n",
       "      <th>South</th>\n",
       "      <td>10791885</td>\n",
       "    </tr>\n",
       "    <tr>\n",
       "      <th>West</th>\n",
       "      <td>8292913</td>\n",
       "    </tr>\n",
       "    <tr>\n",
       "      <th>Midwest</th>\n",
       "      <td>7597325</td>\n",
       "    </tr>\n",
       "    <tr>\n",
       "      <th>Northeast</th>\n",
       "      <td>5722736</td>\n",
       "    </tr>\n",
       "  </tbody>\n",
       "</table>\n",
       "</div>"
      ],
      "text/plain": [
       "           product_id\n",
       "region               \n",
       "South        10791885\n",
       "West          8292913\n",
       "Midwest       7597325\n",
       "Northeast     5722736"
      ]
     },
     "execution_count": 23,
     "metadata": {},
     "output_type": "execute_result"
    }
   ],
   "source": [
    "# check in which regions are buying most products\n",
    "\n",
    "cust_ords_prods_merge[['region', 'product_id']].groupby('region').agg('count').sort_values(by='product_id', ascending=False)"
   ]
  },
  {
   "cell_type": "code",
   "execution_count": 24,
   "id": "ffe2a868",
   "metadata": {},
   "outputs": [
    {
     "data": {
      "text/html": [
       "<div>\n",
       "<style scoped>\n",
       "    .dataframe tbody tr th:only-of-type {\n",
       "        vertical-align: middle;\n",
       "    }\n",
       "\n",
       "    .dataframe tbody tr th {\n",
       "        vertical-align: top;\n",
       "    }\n",
       "\n",
       "    .dataframe thead th {\n",
       "        text-align: right;\n",
       "    }\n",
       "</style>\n",
       "<table border=\"1\" class=\"dataframe\">\n",
       "  <thead>\n",
       "    <tr style=\"text-align: right;\">\n",
       "      <th></th>\n",
       "      <th>order_id</th>\n",
       "    </tr>\n",
       "    <tr>\n",
       "      <th>region</th>\n",
       "      <th></th>\n",
       "    </tr>\n",
       "  </thead>\n",
       "  <tbody>\n",
       "    <tr>\n",
       "      <th>South</th>\n",
       "      <td>10791885</td>\n",
       "    </tr>\n",
       "    <tr>\n",
       "      <th>West</th>\n",
       "      <td>8292913</td>\n",
       "    </tr>\n",
       "    <tr>\n",
       "      <th>Midwest</th>\n",
       "      <td>7597325</td>\n",
       "    </tr>\n",
       "    <tr>\n",
       "      <th>Northeast</th>\n",
       "      <td>5722736</td>\n",
       "    </tr>\n",
       "  </tbody>\n",
       "</table>\n",
       "</div>"
      ],
      "text/plain": [
       "           order_id\n",
       "region             \n",
       "South      10791885\n",
       "West        8292913\n",
       "Midwest     7597325\n",
       "Northeast   5722736"
      ]
     },
     "execution_count": 24,
     "metadata": {},
     "output_type": "execute_result"
    }
   ],
   "source": [
    "# check in which region most orders are being made\n",
    "\n",
    "cust_ords_prods_merge[['region', 'order_id']].groupby('region').agg('count').sort_values(by='order_id', ascending=False)"
   ]
  },
  {
   "cell_type": "code",
   "execution_count": 25,
   "id": "7ef3fcf5",
   "metadata": {},
   "outputs": [
    {
     "data": {
      "image/png": "[encoded data removed]",
      "text/plain": [
       "<Figure size 504x576 with 1 Axes>"
      ]
     },
     "metadata": {},
     "output_type": "display_data"
    }
   ],
   "source": [
    "data = cust_ords_prods_merge[['region', 'order_id']].groupby(['region']).nunique().sort_index()\n",
    "\n",
    "region_orders_pie = data['order_id'].plot.pie(figsize = (7,8), colors = sns.color_palette('Blues', 4), autopct = '%2.0f%%')\n",
    "plt.ylabel('')\n",
    "plt.title('Percentage of orders by regions',fontsize=13)\n",
    "plt.show()"
   ]
  },
  {
   "cell_type": "code",
   "execution_count": 26,
   "id": "54df3b21",
   "metadata": {},
   "outputs": [
    {
     "data": {
      "text/html": [
       "<div>\n",
       "<style scoped>\n",
       "    .dataframe tbody tr th:only-of-type {\n",
       "        vertical-align: middle;\n",
       "    }\n",
       "\n",
       "    .dataframe tbody tr th {\n",
       "        vertical-align: top;\n",
       "    }\n",
       "\n",
       "    .dataframe thead th {\n",
       "        text-align: right;\n",
       "    }\n",
       "</style>\n",
       "<table border=\"1\" class=\"dataframe\">\n",
       "  <thead>\n",
       "    <tr style=\"text-align: right;\">\n",
       "      <th>order_frequency_flag</th>\n",
       "      <th>Frequent customer</th>\n",
       "      <th>Non-frequent customer</th>\n",
       "      <th>Regular customer</th>\n",
       "    </tr>\n",
       "    <tr>\n",
       "      <th>region</th>\n",
       "      <th></th>\n",
       "      <th></th>\n",
       "      <th></th>\n",
       "    </tr>\n",
       "  </thead>\n",
       "  <tbody>\n",
       "    <tr>\n",
       "      <th>Midwest</th>\n",
       "      <td>5017709</td>\n",
       "      <td>863419</td>\n",
       "      <td>1716197</td>\n",
       "    </tr>\n",
       "    <tr>\n",
       "      <th>Northeast</th>\n",
       "      <td>3804566</td>\n",
       "      <td>630182</td>\n",
       "      <td>1287988</td>\n",
       "    </tr>\n",
       "    <tr>\n",
       "      <th>South</th>\n",
       "      <td>7192372</td>\n",
       "      <td>1215088</td>\n",
       "      <td>2384420</td>\n",
       "    </tr>\n",
       "    <tr>\n",
       "      <th>West</th>\n",
       "      <td>5545206</td>\n",
       "      <td>927748</td>\n",
       "      <td>1819959</td>\n",
       "    </tr>\n",
       "  </tbody>\n",
       "</table>\n",
       "</div>"
      ],
      "text/plain": [
       "order_frequency_flag  Frequent customer  Non-frequent customer  \\\n",
       "region                                                           \n",
       "Midwest                         5017709                 863419   \n",
       "Northeast                       3804566                 630182   \n",
       "South                           7192372                1215088   \n",
       "West                            5545206                 927748   \n",
       "\n",
       "order_frequency_flag  Regular customer  \n",
       "region                                  \n",
       "Midwest                        1716197  \n",
       "Northeast                      1287988  \n",
       "South                          2384420  \n",
       "West                           1819959  "
      ]
     },
     "execution_count": 26,
     "metadata": {},
     "output_type": "execute_result"
    }
   ],
   "source": [
    "# check the ordering habits between the different regions\n",
    "\n",
    "ordering_habits = pd.crosstab(cust_ords_prods_merge['region'], cust_ords_prods_merge['order_frequency_flag'], dropna = False)\n",
    "ordering_habits"
   ]
  },
  {
   "cell_type": "code",
   "execution_count": 27,
   "id": "dd04dc97",
   "metadata": {},
   "outputs": [
    {
     "data": {
      "image/png": "[encoded data removed]",
      "text/plain": [
       "<Figure size 864x720 with 1 Axes>"
      ]
     },
     "metadata": {
      "needs_background": "light"
     },
     "output_type": "display_data"
    }
   ],
   "source": [
    "#Creating a stacked bar chart of the order_frequency, divided up by the regions\n",
    "\n",
    "ord_hab_stab = ordering_habits.plot(kind = 'bar', figsize = (12,10), stacked = True, color = sns.color_palette('Blues', 4))\n",
    "plt.legend(loc='upper left')\n",
    "plt.tight_layout()\n",
    "plt.xlabel('Regions', fontsize = 13, fontweight = 'bold')\n",
    "plt.xticks(fontsize = 13)\n",
    "plt.title('Ordering habits between the Regions', fontsize = 13, fontweight = 'bold')\n",
    "plt.show()"
   ]
  },
  {
   "cell_type": "markdown",
   "id": "0bb24dcc",
   "metadata": {},
   "source": [
    "# Exclusion flag"
   ]
  },
  {
   "cell_type": "markdown",
   "id": "ae013cca",
   "metadata": {},
   "source": [
    "The Instacart CFO isn’t interested in customers who don’t generate much revenue for the app. Create an exclusion flag for low-activity customers (customers with less than 5 orders) and exclude them from the data. \n",
    "\n",
    "Make sure you export this sample."
   ]
  },
  {
   "cell_type": "code",
   "execution_count": 28,
   "id": "05a417b5",
   "metadata": {},
   "outputs": [
    {
     "data": {
      "text/plain": [
       "count    3.240486e+07\n",
       "mean     3.305217e+01\n",
       "std      2.515525e+01\n",
       "min      1.000000e+00\n",
       "25%      1.300000e+01\n",
       "50%      2.600000e+01\n",
       "75%      4.700000e+01\n",
       "max      9.900000e+01\n",
       "Name: max_order, dtype: float64"
      ]
     },
     "execution_count": 28,
     "metadata": {},
     "output_type": "execute_result"
    }
   ],
   "source": [
    "cust_ords_prods_merge['max_order'].describe()"
   ]
  },
  {
   "cell_type": "code",
   "execution_count": 29,
   "id": "c18b0554",
   "metadata": {},
   "outputs": [],
   "source": [
    "# create an eclusion flag for low-activity customers\n",
    "\n",
    "cust_ords_prods_merge.loc[cust_ords_prods_merge['max_order'] < 5, 'exclusion_flag'] = 'Low-activity customer'\n",
    "cust_ords_prods_merge.loc[cust_ords_prods_merge['max_order'] >= 5, 'exclusion_flag'] = 'Active customer'"
   ]
  },
  {
   "cell_type": "code",
   "execution_count": 30,
   "id": "2b47e76a",
   "metadata": {},
   "outputs": [
    {
     "data": {
      "text/plain": [
       "Active customer          30964564\n",
       "Low-activity customer     1440295\n",
       "Name: exclusion_flag, dtype: int64"
      ]
     },
     "execution_count": 30,
     "metadata": {},
     "output_type": "execute_result"
    }
   ],
   "source": [
    "# count High and Low-activity customers\n",
    "\n",
    "cust_ords_prods_merge['exclusion_flag'].value_counts(dropna = False)"
   ]
  },
  {
   "cell_type": "code",
   "execution_count": 31,
   "id": "04a3281d",
   "metadata": {},
   "outputs": [
    {
     "data": {
      "text/html": [
       "<div>\n",
       "<style scoped>\n",
       "    .dataframe tbody tr th:only-of-type {\n",
       "        vertical-align: middle;\n",
       "    }\n",
       "\n",
       "    .dataframe tbody tr th {\n",
       "        vertical-align: top;\n",
       "    }\n",
       "\n",
       "    .dataframe thead th {\n",
       "        text-align: right;\n",
       "    }\n",
       "</style>\n",
       "<table border=\"1\" class=\"dataframe\">\n",
       "  <thead>\n",
       "    <tr style=\"text-align: right;\">\n",
       "      <th></th>\n",
       "      <th>user_id</th>\n",
       "      <th>gender</th>\n",
       "      <th>state</th>\n",
       "      <th>age</th>\n",
       "      <th>date_joined</th>\n",
       "      <th>n_dependants</th>\n",
       "      <th>fam_status</th>\n",
       "      <th>income</th>\n",
       "      <th>product_id</th>\n",
       "      <th>product_name</th>\n",
       "      <th>...</th>\n",
       "      <th>reordered</th>\n",
       "      <th>max_order</th>\n",
       "      <th>loyalty_flag</th>\n",
       "      <th>average_price</th>\n",
       "      <th>spending_flag</th>\n",
       "      <th>median_days_since_prior_order</th>\n",
       "      <th>order_frequency_flag</th>\n",
       "      <th>department</th>\n",
       "      <th>region</th>\n",
       "      <th>exclusion_flag</th>\n",
       "    </tr>\n",
       "  </thead>\n",
       "  <tbody>\n",
       "    <tr>\n",
       "      <th>0</th>\n",
       "      <td>26711</td>\n",
       "      <td>Female</td>\n",
       "      <td>Missouri</td>\n",
       "      <td>48</td>\n",
       "      <td>1/1/2017</td>\n",
       "      <td>3</td>\n",
       "      <td>married</td>\n",
       "      <td>165665</td>\n",
       "      <td>196</td>\n",
       "      <td>Soda</td>\n",
       "      <td>...</td>\n",
       "      <td>0</td>\n",
       "      <td>8</td>\n",
       "      <td>New customer</td>\n",
       "      <td>7.988889</td>\n",
       "      <td>Low spender</td>\n",
       "      <td>19.0</td>\n",
       "      <td>Regular customer</td>\n",
       "      <td>beverages</td>\n",
       "      <td>Midwest</td>\n",
       "      <td>Active customer</td>\n",
       "    </tr>\n",
       "    <tr>\n",
       "      <th>1</th>\n",
       "      <td>26711</td>\n",
       "      <td>Female</td>\n",
       "      <td>Missouri</td>\n",
       "      <td>48</td>\n",
       "      <td>1/1/2017</td>\n",
       "      <td>3</td>\n",
       "      <td>married</td>\n",
       "      <td>165665</td>\n",
       "      <td>196</td>\n",
       "      <td>Soda</td>\n",
       "      <td>...</td>\n",
       "      <td>1</td>\n",
       "      <td>8</td>\n",
       "      <td>New customer</td>\n",
       "      <td>7.988889</td>\n",
       "      <td>Low spender</td>\n",
       "      <td>19.0</td>\n",
       "      <td>Regular customer</td>\n",
       "      <td>beverages</td>\n",
       "      <td>Midwest</td>\n",
       "      <td>Active customer</td>\n",
       "    </tr>\n",
       "    <tr>\n",
       "      <th>2</th>\n",
       "      <td>26711</td>\n",
       "      <td>Female</td>\n",
       "      <td>Missouri</td>\n",
       "      <td>48</td>\n",
       "      <td>1/1/2017</td>\n",
       "      <td>3</td>\n",
       "      <td>married</td>\n",
       "      <td>165665</td>\n",
       "      <td>196</td>\n",
       "      <td>Soda</td>\n",
       "      <td>...</td>\n",
       "      <td>1</td>\n",
       "      <td>8</td>\n",
       "      <td>New customer</td>\n",
       "      <td>7.988889</td>\n",
       "      <td>Low spender</td>\n",
       "      <td>19.0</td>\n",
       "      <td>Regular customer</td>\n",
       "      <td>beverages</td>\n",
       "      <td>Midwest</td>\n",
       "      <td>Active customer</td>\n",
       "    </tr>\n",
       "    <tr>\n",
       "      <th>18</th>\n",
       "      <td>33890</td>\n",
       "      <td>Female</td>\n",
       "      <td>New Mexico</td>\n",
       "      <td>36</td>\n",
       "      <td>1/1/2017</td>\n",
       "      <td>0</td>\n",
       "      <td>single</td>\n",
       "      <td>59285</td>\n",
       "      <td>196</td>\n",
       "      <td>Soda</td>\n",
       "      <td>...</td>\n",
       "      <td>0</td>\n",
       "      <td>12</td>\n",
       "      <td>Regular customer</td>\n",
       "      <td>7.057534</td>\n",
       "      <td>Low spender</td>\n",
       "      <td>26.0</td>\n",
       "      <td>Non-frequent customer</td>\n",
       "      <td>beverages</td>\n",
       "      <td>West</td>\n",
       "      <td>Active customer</td>\n",
       "    </tr>\n",
       "    <tr>\n",
       "      <th>19</th>\n",
       "      <td>33890</td>\n",
       "      <td>Female</td>\n",
       "      <td>New Mexico</td>\n",
       "      <td>36</td>\n",
       "      <td>1/1/2017</td>\n",
       "      <td>0</td>\n",
       "      <td>single</td>\n",
       "      <td>59285</td>\n",
       "      <td>196</td>\n",
       "      <td>Soda</td>\n",
       "      <td>...</td>\n",
       "      <td>1</td>\n",
       "      <td>12</td>\n",
       "      <td>Regular customer</td>\n",
       "      <td>7.057534</td>\n",
       "      <td>Low spender</td>\n",
       "      <td>26.0</td>\n",
       "      <td>Non-frequent customer</td>\n",
       "      <td>beverages</td>\n",
       "      <td>West</td>\n",
       "      <td>Active customer</td>\n",
       "    </tr>\n",
       "  </tbody>\n",
       "</table>\n",
       "<p>5 rows × 30 columns</p>\n",
       "</div>"
      ],
      "text/plain": [
       "   user_id  gender       state  age date_joined  n_dependants fam_status  \\\n",
       "0    26711  Female    Missouri   48    1/1/2017             3    married   \n",
       "1    26711  Female    Missouri   48    1/1/2017             3    married   \n",
       "2    26711  Female    Missouri   48    1/1/2017             3    married   \n",
       "18   33890  Female  New Mexico   36    1/1/2017             0     single   \n",
       "19   33890  Female  New Mexico   36    1/1/2017             0     single   \n",
       "\n",
       "    income product_id product_name  ... reordered  max_order  \\\n",
       "0   165665        196         Soda  ...         0          8   \n",
       "1   165665        196         Soda  ...         1          8   \n",
       "2   165665        196         Soda  ...         1          8   \n",
       "18   59285        196         Soda  ...         0         12   \n",
       "19   59285        196         Soda  ...         1         12   \n",
       "\n",
       "        loyalty_flag average_price  spending_flag  \\\n",
       "0       New customer      7.988889    Low spender   \n",
       "1       New customer      7.988889    Low spender   \n",
       "2       New customer      7.988889    Low spender   \n",
       "18  Regular customer      7.057534    Low spender   \n",
       "19  Regular customer      7.057534    Low spender   \n",
       "\n",
       "   median_days_since_prior_order   order_frequency_flag  department   region  \\\n",
       "0                           19.0       Regular customer   beverages  Midwest   \n",
       "1                           19.0       Regular customer   beverages  Midwest   \n",
       "2                           19.0       Regular customer   beverages  Midwest   \n",
       "18                          26.0  Non-frequent customer   beverages     West   \n",
       "19                          26.0  Non-frequent customer   beverages     West   \n",
       "\n",
       "     exclusion_flag  \n",
       "0   Active customer  \n",
       "1   Active customer  \n",
       "2   Active customer  \n",
       "18  Active customer  \n",
       "19  Active customer  \n",
       "\n",
       "[5 rows x 30 columns]"
      ]
     },
     "execution_count": 31,
     "metadata": {},
     "output_type": "execute_result"
    }
   ],
   "source": [
    "cust_ords_prods_merge.head()"
   ]
  },
  {
   "cell_type": "code",
   "execution_count": 32,
   "id": "e24d466f",
   "metadata": {},
   "outputs": [
    {
     "data": {
      "text/plain": [
       "(32404859, 30)"
      ]
     },
     "execution_count": 32,
     "metadata": {},
     "output_type": "execute_result"
    }
   ],
   "source": [
    "cust_ords_prods_merge.shape"
   ]
  },
  {
   "cell_type": "code",
   "execution_count": 33,
   "id": "a6b7a2f6",
   "metadata": {},
   "outputs": [],
   "source": [
    "# create a subset with only low-activity customers\n",
    "\n",
    "Low_activity_customers = cust_ords_prods_merge.loc[cust_ords_prods_merge['exclusion_flag']=='Low-activity customer']"
   ]
  },
  {
   "cell_type": "code",
   "execution_count": 34,
   "id": "789d9ddf",
   "metadata": {},
   "outputs": [
    {
     "data": {
      "text/plain": [
       "(1440295, 30)"
      ]
     },
     "execution_count": 34,
     "metadata": {},
     "output_type": "execute_result"
    }
   ],
   "source": [
    "Low_activity_customers.shape"
   ]
  },
  {
   "cell_type": "code",
   "execution_count": 35,
   "id": "06705591",
   "metadata": {},
   "outputs": [],
   "source": [
    "# export low-activity customers set\n",
    "\n",
    "Low_activity_customers.to_pickle(os.path.join(path, '02 Data','Prepared Data', 'low-activty_cust.pkl'))"
   ]
  },
  {
   "cell_type": "code",
   "execution_count": 36,
   "id": "bd0b227c",
   "metadata": {},
   "outputs": [],
   "source": [
    "# delete low-activity customers\n",
    "\n",
    "cust_ords_prods_merge.drop(cust_ords_prods_merge.loc[cust_ords_prods_merge['exclusion_flag']=='Low-activity customer'].index, inplace=True)"
   ]
  },
  {
   "cell_type": "code",
   "execution_count": 37,
   "id": "ce6ce9a4",
   "metadata": {},
   "outputs": [
    {
     "data": {
      "text/plain": [
       "Active customer    30964564\n",
       "Name: exclusion_flag, dtype: int64"
      ]
     },
     "execution_count": 37,
     "metadata": {},
     "output_type": "execute_result"
    }
   ],
   "source": [
    "cust_ords_prods_merge['exclusion_flag'].value_counts(dropna = False)"
   ]
  },
  {
   "cell_type": "code",
   "execution_count": 38,
   "id": "93a40a16",
   "metadata": {},
   "outputs": [
    {
     "data": {
      "text/plain": [
       "(30964564, 30)"
      ]
     },
     "execution_count": 38,
     "metadata": {},
     "output_type": "execute_result"
    }
   ],
   "source": [
    "cust_ords_prods_merge.shape"
   ]
  },
  {
   "cell_type": "markdown",
   "id": "f09dc083",
   "metadata": {},
   "source": [
    "# Customer Profiling"
   ]
  },
  {
   "cell_type": "code",
   "execution_count": 39,
   "id": "77fe9c30",
   "metadata": {},
   "outputs": [
    {
     "data": {
      "text/html": [
       "<div>\n",
       "<style scoped>\n",
       "    .dataframe tbody tr th:only-of-type {\n",
       "        vertical-align: middle;\n",
       "    }\n",
       "\n",
       "    .dataframe tbody tr th {\n",
       "        vertical-align: top;\n",
       "    }\n",
       "\n",
       "    .dataframe thead th {\n",
       "        text-align: right;\n",
       "    }\n",
       "</style>\n",
       "<table border=\"1\" class=\"dataframe\">\n",
       "  <thead>\n",
       "    <tr style=\"text-align: right;\">\n",
       "      <th></th>\n",
       "      <th>user_id</th>\n",
       "      <th>gender</th>\n",
       "      <th>state</th>\n",
       "      <th>age</th>\n",
       "      <th>date_joined</th>\n",
       "      <th>n_dependants</th>\n",
       "      <th>fam_status</th>\n",
       "      <th>income</th>\n",
       "      <th>product_id</th>\n",
       "      <th>product_name</th>\n",
       "      <th>...</th>\n",
       "      <th>reordered</th>\n",
       "      <th>max_order</th>\n",
       "      <th>loyalty_flag</th>\n",
       "      <th>average_price</th>\n",
       "      <th>spending_flag</th>\n",
       "      <th>median_days_since_prior_order</th>\n",
       "      <th>order_frequency_flag</th>\n",
       "      <th>department</th>\n",
       "      <th>region</th>\n",
       "      <th>exclusion_flag</th>\n",
       "    </tr>\n",
       "  </thead>\n",
       "  <tbody>\n",
       "    <tr>\n",
       "      <th>0</th>\n",
       "      <td>26711</td>\n",
       "      <td>Female</td>\n",
       "      <td>Missouri</td>\n",
       "      <td>48</td>\n",
       "      <td>1/1/2017</td>\n",
       "      <td>3</td>\n",
       "      <td>married</td>\n",
       "      <td>165665</td>\n",
       "      <td>196</td>\n",
       "      <td>Soda</td>\n",
       "      <td>...</td>\n",
       "      <td>0</td>\n",
       "      <td>8</td>\n",
       "      <td>New customer</td>\n",
       "      <td>7.988889</td>\n",
       "      <td>Low spender</td>\n",
       "      <td>19.0</td>\n",
       "      <td>Regular customer</td>\n",
       "      <td>beverages</td>\n",
       "      <td>Midwest</td>\n",
       "      <td>Active customer</td>\n",
       "    </tr>\n",
       "    <tr>\n",
       "      <th>18</th>\n",
       "      <td>33890</td>\n",
       "      <td>Female</td>\n",
       "      <td>New Mexico</td>\n",
       "      <td>36</td>\n",
       "      <td>1/1/2017</td>\n",
       "      <td>0</td>\n",
       "      <td>single</td>\n",
       "      <td>59285</td>\n",
       "      <td>196</td>\n",
       "      <td>Soda</td>\n",
       "      <td>...</td>\n",
       "      <td>0</td>\n",
       "      <td>12</td>\n",
       "      <td>Regular customer</td>\n",
       "      <td>7.057534</td>\n",
       "      <td>Low spender</td>\n",
       "      <td>26.0</td>\n",
       "      <td>Non-frequent customer</td>\n",
       "      <td>beverages</td>\n",
       "      <td>West</td>\n",
       "      <td>Active customer</td>\n",
       "    </tr>\n",
       "    <tr>\n",
       "      <th>91</th>\n",
       "      <td>65803</td>\n",
       "      <td>Male</td>\n",
       "      <td>Idaho</td>\n",
       "      <td>35</td>\n",
       "      <td>1/1/2017</td>\n",
       "      <td>2</td>\n",
       "      <td>married</td>\n",
       "      <td>99568</td>\n",
       "      <td>196</td>\n",
       "      <td>Soda</td>\n",
       "      <td>...</td>\n",
       "      <td>0</td>\n",
       "      <td>9</td>\n",
       "      <td>New customer</td>\n",
       "      <td>8.375962</td>\n",
       "      <td>Low spender</td>\n",
       "      <td>7.0</td>\n",
       "      <td>Frequent customer</td>\n",
       "      <td>beverages</td>\n",
       "      <td>West</td>\n",
       "      <td>Active customer</td>\n",
       "    </tr>\n",
       "    <tr>\n",
       "      <th>195</th>\n",
       "      <td>125935</td>\n",
       "      <td>Female</td>\n",
       "      <td>Iowa</td>\n",
       "      <td>40</td>\n",
       "      <td>1/1/2017</td>\n",
       "      <td>0</td>\n",
       "      <td>single</td>\n",
       "      <td>42049</td>\n",
       "      <td>196</td>\n",
       "      <td>Soda</td>\n",
       "      <td>...</td>\n",
       "      <td>0</td>\n",
       "      <td>18</td>\n",
       "      <td>Regular customer</td>\n",
       "      <td>6.371795</td>\n",
       "      <td>Low spender</td>\n",
       "      <td>18.0</td>\n",
       "      <td>Regular customer</td>\n",
       "      <td>beverages</td>\n",
       "      <td>Midwest</td>\n",
       "      <td>Active customer</td>\n",
       "    </tr>\n",
       "    <tr>\n",
       "      <th>351</th>\n",
       "      <td>130797</td>\n",
       "      <td>Female</td>\n",
       "      <td>Maryland</td>\n",
       "      <td>26</td>\n",
       "      <td>1/1/2017</td>\n",
       "      <td>1</td>\n",
       "      <td>married</td>\n",
       "      <td>40374</td>\n",
       "      <td>196</td>\n",
       "      <td>Soda</td>\n",
       "      <td>...</td>\n",
       "      <td>0</td>\n",
       "      <td>23</td>\n",
       "      <td>Regular customer</td>\n",
       "      <td>6.305128</td>\n",
       "      <td>Low spender</td>\n",
       "      <td>8.0</td>\n",
       "      <td>Frequent customer</td>\n",
       "      <td>beverages</td>\n",
       "      <td>South</td>\n",
       "      <td>Active customer</td>\n",
       "    </tr>\n",
       "  </tbody>\n",
       "</table>\n",
       "<p>5 rows × 30 columns</p>\n",
       "</div>"
      ],
      "text/plain": [
       "    user_id  gender       state  age date_joined  n_dependants fam_status  \\\n",
       "0     26711  Female    Missouri   48    1/1/2017             3    married   \n",
       "18    33890  Female  New Mexico   36    1/1/2017             0     single   \n",
       "91    65803    Male       Idaho   35    1/1/2017             2    married   \n",
       "195  125935  Female        Iowa   40    1/1/2017             0     single   \n",
       "351  130797  Female    Maryland   26    1/1/2017             1    married   \n",
       "\n",
       "     income product_id product_name  ... reordered  max_order  \\\n",
       "0    165665        196         Soda  ...         0          8   \n",
       "18    59285        196         Soda  ...         0         12   \n",
       "91    99568        196         Soda  ...         0          9   \n",
       "195   42049        196         Soda  ...         0         18   \n",
       "351   40374        196         Soda  ...         0         23   \n",
       "\n",
       "         loyalty_flag average_price  spending_flag  \\\n",
       "0        New customer      7.988889    Low spender   \n",
       "18   Regular customer      7.057534    Low spender   \n",
       "91       New customer      8.375962    Low spender   \n",
       "195  Regular customer      6.371795    Low spender   \n",
       "351  Regular customer      6.305128    Low spender   \n",
       "\n",
       "    median_days_since_prior_order   order_frequency_flag  department   region  \\\n",
       "0                            19.0       Regular customer   beverages  Midwest   \n",
       "18                           26.0  Non-frequent customer   beverages     West   \n",
       "91                            7.0      Frequent customer   beverages     West   \n",
       "195                          18.0       Regular customer   beverages  Midwest   \n",
       "351                           8.0      Frequent customer   beverages    South   \n",
       "\n",
       "      exclusion_flag  \n",
       "0    Active customer  \n",
       "18   Active customer  \n",
       "91   Active customer  \n",
       "195  Active customer  \n",
       "351  Active customer  \n",
       "\n",
       "[5 rows x 30 columns]"
      ]
     },
     "execution_count": 39,
     "metadata": {},
     "output_type": "execute_result"
    }
   ],
   "source": [
    "# create new df with customers only\n",
    "\n",
    "customers = cust_ords_prods_merge.drop_duplicates(subset=['user_id'])\n",
    "customers.head()"
   ]
  },
  {
   "cell_type": "code",
   "execution_count": 40,
   "id": "f4fafa39",
   "metadata": {},
   "outputs": [
    {
     "data": {
      "text/plain": [
       "(162631, 30)"
      ]
     },
     "execution_count": 40,
     "metadata": {},
     "output_type": "execute_result"
    }
   ],
   "source": [
    "customers.shape"
   ]
  },
  {
   "cell_type": "code",
   "execution_count": 41,
   "id": "0e9b12f5",
   "metadata": {},
   "outputs": [
    {
     "data": {
      "text/html": [
       "<div>\n",
       "<style scoped>\n",
       "    .dataframe tbody tr th:only-of-type {\n",
       "        vertical-align: middle;\n",
       "    }\n",
       "\n",
       "    .dataframe tbody tr th {\n",
       "        vertical-align: top;\n",
       "    }\n",
       "\n",
       "    .dataframe thead th {\n",
       "        text-align: right;\n",
       "    }\n",
       "</style>\n",
       "<table border=\"1\" class=\"dataframe\">\n",
       "  <thead>\n",
       "    <tr style=\"text-align: right;\">\n",
       "      <th></th>\n",
       "      <th>user_id</th>\n",
       "    </tr>\n",
       "    <tr>\n",
       "      <th>region</th>\n",
       "      <th></th>\n",
       "    </tr>\n",
       "  </thead>\n",
       "  <tbody>\n",
       "    <tr>\n",
       "      <th>South</th>\n",
       "      <td>54193</td>\n",
       "    </tr>\n",
       "    <tr>\n",
       "      <th>West</th>\n",
       "      <td>41481</td>\n",
       "    </tr>\n",
       "    <tr>\n",
       "      <th>Midwest</th>\n",
       "      <td>38376</td>\n",
       "    </tr>\n",
       "    <tr>\n",
       "      <th>Northeast</th>\n",
       "      <td>28581</td>\n",
       "    </tr>\n",
       "  </tbody>\n",
       "</table>\n",
       "</div>"
      ],
      "text/plain": [
       "           user_id\n",
       "region            \n",
       "South        54193\n",
       "West         41481\n",
       "Midwest      38376\n",
       "Northeast    28581"
      ]
     },
     "execution_count": 41,
     "metadata": {},
     "output_type": "execute_result"
    }
   ],
   "source": [
    "# check from which regions are coming the majority of customers \n",
    "\n",
    "customers[['region', 'user_id']].groupby('region').agg({'user_id': pd.Series.nunique}).sort_values(by='user_id', ascending=False)"
   ]
  },
  {
   "cell_type": "code",
   "execution_count": 42,
   "id": "dd97f770",
   "metadata": {},
   "outputs": [
    {
     "data": {
      "image/png": "[encoded data removed]",
      "text/plain": [
       "<Figure size 504x576 with 1 Axes>"
      ]
     },
     "metadata": {},
     "output_type": "display_data"
    }
   ],
   "source": [
    "# Percentage of customers by regions\n",
    "\n",
    "data = customers[['region', 'user_id']].groupby(['region']).nunique().sort_index()\n",
    "\n",
    "region_pie = data['user_id'].plot.pie(figsize = (7,8), colors = sns.color_palette('Blues', 4), autopct = '%2.0f%%')\n",
    "plt.ylabel('')\n",
    "plt.title('Percentage of customers by regions',fontsize=13)\n",
    "plt.show()"
   ]
  },
  {
   "cell_type": "markdown",
   "id": "8b772f0d",
   "metadata": {},
   "source": [
    "## Age"
   ]
  },
  {
   "cell_type": "code",
   "execution_count": 44,
   "id": "1bf437a3",
   "metadata": {},
   "outputs": [],
   "source": [
    "# create a flag that assigns an “age_category” label to a user ID based on its age\n",
    "\n",
    "customers.loc[(customers['age'] >= 18) & (customers['age']<= 30), 'age_category'] = 'Young Adults'\n",
    "\n",
    "customers.loc[(customers['age'] > 30) & (customers['age']<= 45), 'age_category'] = 'Middle-aged Adults'\n",
    "\n",
    "customers.loc[customers['age'] > 45, 'age_category'] = 'Old-aged Adults'"
   ]
  },
  {
   "cell_type": "code",
   "execution_count": 45,
   "id": "5c06b04c",
   "metadata": {},
   "outputs": [
    {
     "data": {
      "text/plain": [
       "Old-aged Adults       91635\n",
       "Middle-aged Adults    37990\n",
       "Young Adults          33006\n",
       "Name: age_category, dtype: int64"
      ]
     },
     "execution_count": 45,
     "metadata": {},
     "output_type": "execute_result"
    }
   ],
   "source": [
    "customers['age_category'].value_counts(dropna = False)"
   ]
  },
  {
   "cell_type": "code",
   "execution_count": 46,
   "id": "e85bb1fb",
   "metadata": {},
   "outputs": [
    {
     "data": {
      "text/html": [
       "<div>\n",
       "<style scoped>\n",
       "    .dataframe tbody tr th:only-of-type {\n",
       "        vertical-align: middle;\n",
       "    }\n",
       "\n",
       "    .dataframe tbody tr th {\n",
       "        vertical-align: top;\n",
       "    }\n",
       "\n",
       "    .dataframe thead th {\n",
       "        text-align: right;\n",
       "    }\n",
       "</style>\n",
       "<table border=\"1\" class=\"dataframe\">\n",
       "  <thead>\n",
       "    <tr style=\"text-align: right;\">\n",
       "      <th>order_frequency_flag</th>\n",
       "      <th>Frequent customer</th>\n",
       "      <th>Non-frequent customer</th>\n",
       "      <th>Regular customer</th>\n",
       "    </tr>\n",
       "    <tr>\n",
       "      <th>age_category</th>\n",
       "      <th></th>\n",
       "      <th></th>\n",
       "      <th></th>\n",
       "    </tr>\n",
       "  </thead>\n",
       "  <tbody>\n",
       "    <tr>\n",
       "      <th>Middle-aged Adults</th>\n",
       "      <td>17771</td>\n",
       "      <td>8548</td>\n",
       "      <td>11671</td>\n",
       "    </tr>\n",
       "    <tr>\n",
       "      <th>Old-aged Adults</th>\n",
       "      <td>42763</td>\n",
       "      <td>20671</td>\n",
       "      <td>28201</td>\n",
       "    </tr>\n",
       "    <tr>\n",
       "      <th>Young Adults</th>\n",
       "      <td>15393</td>\n",
       "      <td>7446</td>\n",
       "      <td>10167</td>\n",
       "    </tr>\n",
       "  </tbody>\n",
       "</table>\n",
       "</div>"
      ],
      "text/plain": [
       "order_frequency_flag  Frequent customer  Non-frequent customer  \\\n",
       "age_category                                                     \n",
       "Middle-aged Adults                17771                   8548   \n",
       "Old-aged Adults                   42763                  20671   \n",
       "Young Adults                      15393                   7446   \n",
       "\n",
       "order_frequency_flag  Regular customer  \n",
       "age_category                            \n",
       "Middle-aged Adults               11671  \n",
       "Old-aged Adults                  28201  \n",
       "Young Adults                     10167  "
      ]
     },
     "execution_count": 46,
     "metadata": {},
     "output_type": "execute_result"
    }
   ],
   "source": [
    "ordering_habits_by_age = pd.crosstab(customers['age_category'], cust_ords_prods_merge['order_frequency_flag'], dropna = False)\n",
    "ordering_habits_by_age"
   ]
  },
  {
   "cell_type": "code",
   "execution_count": 47,
   "id": "f223b65c",
   "metadata": {},
   "outputs": [
    {
     "data": {
      "text/plain": [
       "<matplotlib.legend.Legend at 0x7fd91fc3c790>"
      ]
     },
     "execution_count": 47,
     "metadata": {},
     "output_type": "execute_result"
    },
    {
     "data": {
      "image/png": "[encoded data removed]",
      "text/plain": [
       "<Figure size 720x216 with 1 Axes>"
      ]
     },
     "metadata": {
      "needs_background": "light"
     },
     "output_type": "display_data"
    }
   ],
   "source": [
    "# order frequency by age categories\n",
    "\n",
    "order_age_barh = ordering_habits_by_age.plot.barh(color = sns.color_palette('Blues', 3), figsize=(10,3),title ='Order frequency by age categories')\n",
    "plt.yticks([0,1,2], labels=['Young Adults', 'Old-aged Adults', 'Middle-aged Adults'])\n",
    "plt.ylabel('')\n",
    "plt.legend(['Frequent','Non-frequent','Regular'])"
   ]
  },
  {
   "cell_type": "code",
   "execution_count": 48,
   "id": "fccf4b34",
   "metadata": {},
   "outputs": [
    {
     "data": {
      "text/html": [
       "<div>\n",
       "<style scoped>\n",
       "    .dataframe tbody tr th:only-of-type {\n",
       "        vertical-align: middle;\n",
       "    }\n",
       "\n",
       "    .dataframe tbody tr th {\n",
       "        vertical-align: top;\n",
       "    }\n",
       "\n",
       "    .dataframe thead th {\n",
       "        text-align: right;\n",
       "    }\n",
       "</style>\n",
       "<table border=\"1\" class=\"dataframe\">\n",
       "  <thead>\n",
       "    <tr style=\"text-align: right;\">\n",
       "      <th>order_frequency_flag</th>\n",
       "      <th>Frequent customer</th>\n",
       "      <th>Non-frequent customer</th>\n",
       "      <th>Regular customer</th>\n",
       "    </tr>\n",
       "    <tr>\n",
       "      <th>age_category</th>\n",
       "      <th></th>\n",
       "      <th></th>\n",
       "      <th></th>\n",
       "    </tr>\n",
       "  </thead>\n",
       "  <tbody>\n",
       "    <tr>\n",
       "      <th>Middle-aged Adults</th>\n",
       "      <td>11.0</td>\n",
       "      <td>5.0</td>\n",
       "      <td>7.0</td>\n",
       "    </tr>\n",
       "    <tr>\n",
       "      <th>Old-aged Adults</th>\n",
       "      <td>26.0</td>\n",
       "      <td>13.0</td>\n",
       "      <td>17.0</td>\n",
       "    </tr>\n",
       "    <tr>\n",
       "      <th>Young Adults</th>\n",
       "      <td>9.0</td>\n",
       "      <td>5.0</td>\n",
       "      <td>6.0</td>\n",
       "    </tr>\n",
       "  </tbody>\n",
       "</table>\n",
       "</div>"
      ],
      "text/plain": [
       "order_frequency_flag  Frequent customer  Non-frequent customer  \\\n",
       "age_category                                                     \n",
       "Middle-aged Adults                 11.0                    5.0   \n",
       "Old-aged Adults                    26.0                   13.0   \n",
       "Young Adults                        9.0                    5.0   \n",
       "\n",
       "order_frequency_flag  Regular customer  \n",
       "age_category                            \n",
       "Middle-aged Adults                 7.0  \n",
       "Old-aged Adults                   17.0  \n",
       "Young Adults                       6.0  "
      ]
     },
     "execution_count": 48,
     "metadata": {},
     "output_type": "execute_result"
    }
   ],
   "source": [
    "# percentage of total customers for each age category and order frequency\n",
    "\n",
    "tot_cust_age_order = pd.crosstab(customers['age_category'],cust_ords_prods_merge['order_frequency_flag']).apply(lambda r:r/len(customers), axis=1).round(2)*100\n",
    "tot_cust_age_order\n"
   ]
  },
  {
   "cell_type": "code",
   "execution_count": 49,
   "id": "4e12587f",
   "metadata": {},
   "outputs": [
    {
     "data": {
      "text/html": [
       "<div>\n",
       "<style scoped>\n",
       "    .dataframe tbody tr th:only-of-type {\n",
       "        vertical-align: middle;\n",
       "    }\n",
       "\n",
       "    .dataframe tbody tr th {\n",
       "        vertical-align: top;\n",
       "    }\n",
       "\n",
       "    .dataframe thead th {\n",
       "        text-align: right;\n",
       "    }\n",
       "</style>\n",
       "<table border=\"1\" class=\"dataframe\">\n",
       "  <thead>\n",
       "    <tr style=\"text-align: right;\">\n",
       "      <th>fam_status</th>\n",
       "      <th>divorced/widowed</th>\n",
       "      <th>living with parents and siblings</th>\n",
       "      <th>married</th>\n",
       "      <th>single</th>\n",
       "    </tr>\n",
       "    <tr>\n",
       "      <th>order_frequency_flag</th>\n",
       "      <th></th>\n",
       "      <th></th>\n",
       "      <th></th>\n",
       "      <th></th>\n",
       "    </tr>\n",
       "  </thead>\n",
       "  <tbody>\n",
       "    <tr>\n",
       "      <th>Frequent customer</th>\n",
       "      <td>6517</td>\n",
       "      <td>3616</td>\n",
       "      <td>53405</td>\n",
       "      <td>12389</td>\n",
       "    </tr>\n",
       "    <tr>\n",
       "      <th>Non-frequent customer</th>\n",
       "      <td>3054</td>\n",
       "      <td>1729</td>\n",
       "      <td>25790</td>\n",
       "      <td>6092</td>\n",
       "    </tr>\n",
       "    <tr>\n",
       "      <th>Regular customer</th>\n",
       "      <td>4260</td>\n",
       "      <td>2263</td>\n",
       "      <td>35101</td>\n",
       "      <td>8415</td>\n",
       "    </tr>\n",
       "  </tbody>\n",
       "</table>\n",
       "</div>"
      ],
      "text/plain": [
       "fam_status             divorced/widowed  living with parents and siblings  \\\n",
       "order_frequency_flag                                                        \n",
       "Frequent customer                  6517                              3616   \n",
       "Non-frequent customer              3054                              1729   \n",
       "Regular customer                   4260                              2263   \n",
       "\n",
       "fam_status             married  single  \n",
       "order_frequency_flag                    \n",
       "Frequent customer        53405   12389  \n",
       "Non-frequent customer    25790    6092  \n",
       "Regular customer         35101    8415  "
      ]
     },
     "execution_count": 49,
     "metadata": {},
     "output_type": "execute_result"
    }
   ],
   "source": [
    "# order frequency by family status\n",
    "\n",
    "ord_fam = pd.crosstab(customers['order_frequency_flag'], cust_ords_prods_merge['fam_status'], dropna = False)\n",
    "ord_fam "
   ]
  },
  {
   "cell_type": "code",
   "execution_count": 50,
   "id": "b066ca65",
   "metadata": {},
   "outputs": [],
   "source": [
    "ord_fam.to_clipboard()"
   ]
  },
  {
   "cell_type": "code",
   "execution_count": 51,
   "id": "771b49bb",
   "metadata": {},
   "outputs": [
    {
     "data": {
      "image/png": "[encoded data removed]",
      "text/plain": [
       "<Figure size 864x576 with 1 Axes>"
      ]
     },
     "metadata": {
      "needs_background": "light"
     },
     "output_type": "display_data"
    }
   ],
   "source": [
    "# Order frequency by family status bar chart\n",
    "\n",
    "ord_fam_bar = ord_fam.plot.bar(figsize = (12,8), color = sns.color_palette('Blues', 3))\n",
    "\n",
    "sns.set_style('ticks')\n",
    "plt.yticks(fontsize = 13)\n",
    "plt.xlabel(' ')\n",
    "plt.ylabel('Number of orders', fontsize = 13, fontweight = 'bold')\n",
    "plt.yticks(fontsize = 13)\n",
    "plt.title('Order frequency by family status', fontsize = 13, fontweight = 'bold')\n",
    "plt.show()"
   ]
  },
  {
   "cell_type": "markdown",
   "id": "3aeec631",
   "metadata": {},
   "source": [
    "## Income"
   ]
  },
  {
   "cell_type": "code",
   "execution_count": 52,
   "id": "16e85d6e",
   "metadata": {
    "scrolled": true
   },
   "outputs": [
    {
     "data": {
      "text/plain": [
       "count    162631.000000\n",
       "mean      95686.508821\n",
       "std       42743.386453\n",
       "min       25903.000000\n",
       "25%       61717.500000\n",
       "50%       94292.000000\n",
       "75%      125165.000000\n",
       "max      593901.000000\n",
       "Name: income, dtype: float64"
      ]
     },
     "execution_count": 52,
     "metadata": {},
     "output_type": "execute_result"
    }
   ],
   "source": [
    "customers['income'].describe()"
   ]
  },
  {
   "cell_type": "code",
   "execution_count": 54,
   "id": "bb4fc085",
   "metadata": {},
   "outputs": [],
   "source": [
    "# create a flag that assigns an “income_category” label to a user ID based on its income(acording to money.usnews.com)\n",
    "\n",
    "customers.loc[customers['income'] < 52200, 'income_category'] = 'Low income'\n",
    "\n",
    "customers.loc[(customers['income'] >= 52200) & (customers['income']<= 156600), 'income_category'] = 'Middle income'\n",
    "\n",
    "customers.loc[customers['income'] > 156600, 'income_category'] = 'High income'"
   ]
  },
  {
   "cell_type": "code",
   "execution_count": 55,
   "id": "98c0281d",
   "metadata": {},
   "outputs": [
    {
     "data": {
      "text/plain": [
       "Middle income    122491\n",
       "Low income        27131\n",
       "High income       13009\n",
       "Name: income_category, dtype: int64"
      ]
     },
     "execution_count": 55,
     "metadata": {},
     "output_type": "execute_result"
    }
   ],
   "source": [
    "#count customers for each income group\n",
    "\n",
    "income_cat_count = customers['income_category'].value_counts(dropna = False)\n",
    "income_cat_count"
   ]
  },
  {
   "cell_type": "code",
   "execution_count": 56,
   "id": "0a1cd241",
   "metadata": {},
   "outputs": [
    {
     "data": {
      "image/png": "[encoded data removed]",
      "text/plain": [
       "<Figure size 504x576 with 1 Axes>"
      ]
     },
     "metadata": {},
     "output_type": "display_data"
    }
   ],
   "source": [
    "income_pie = income_cat_count.plot.pie(figsize = (7,8), colors = sns.color_palette('Greens', 3), autopct = '%1.0f%%')\n",
    "plt.ylabel('')\n",
    "plt.title('Percentage of customers in each income category',fontsize=13)\n",
    "plt.show()"
   ]
  },
  {
   "cell_type": "code",
   "execution_count": 57,
   "id": "85c40a28",
   "metadata": {},
   "outputs": [
    {
     "data": {
      "text/html": [
       "<div>\n",
       "<style scoped>\n",
       "    .dataframe tbody tr th:only-of-type {\n",
       "        vertical-align: middle;\n",
       "    }\n",
       "\n",
       "    .dataframe tbody tr th {\n",
       "        vertical-align: top;\n",
       "    }\n",
       "\n",
       "    .dataframe thead th {\n",
       "        text-align: right;\n",
       "    }\n",
       "</style>\n",
       "<table border=\"1\" class=\"dataframe\">\n",
       "  <thead>\n",
       "    <tr style=\"text-align: right;\">\n",
       "      <th>fam_status</th>\n",
       "      <th>divorced/widowed</th>\n",
       "      <th>living with parents and siblings</th>\n",
       "      <th>married</th>\n",
       "      <th>single</th>\n",
       "    </tr>\n",
       "    <tr>\n",
       "      <th>income_category</th>\n",
       "      <th></th>\n",
       "      <th></th>\n",
       "      <th></th>\n",
       "      <th></th>\n",
       "    </tr>\n",
       "  </thead>\n",
       "  <tbody>\n",
       "    <tr>\n",
       "      <th>High income</th>\n",
       "      <td>1697</td>\n",
       "      <td>43</td>\n",
       "      <td>9690</td>\n",
       "      <td>1579</td>\n",
       "    </tr>\n",
       "    <tr>\n",
       "      <th>Low income</th>\n",
       "      <td>1821</td>\n",
       "      <td>1694</td>\n",
       "      <td>18603</td>\n",
       "      <td>5013</td>\n",
       "    </tr>\n",
       "    <tr>\n",
       "      <th>Middle income</th>\n",
       "      <td>10313</td>\n",
       "      <td>5871</td>\n",
       "      <td>86003</td>\n",
       "      <td>20304</td>\n",
       "    </tr>\n",
       "  </tbody>\n",
       "</table>\n",
       "</div>"
      ],
      "text/plain": [
       "fam_status       divorced/widowed  living with parents and siblings  married  \\\n",
       "income_category                                                                \n",
       "High income                  1697                                43     9690   \n",
       "Low income                   1821                              1694    18603   \n",
       "Middle income               10313                              5871    86003   \n",
       "\n",
       "fam_status       single  \n",
       "income_category          \n",
       "High income        1579  \n",
       "Low income         5013  \n",
       "Middle income     20304  "
      ]
     },
     "execution_count": 57,
     "metadata": {},
     "output_type": "execute_result"
    }
   ],
   "source": [
    "income_fam_status = pd.crosstab(customers['income_category'], cust_ords_prods_merge['fam_status'], dropna = False)\n",
    "income_fam_status"
   ]
  },
  {
   "cell_type": "code",
   "execution_count": 58,
   "id": "58f36a78",
   "metadata": {},
   "outputs": [
    {
     "data": {
      "text/html": [
       "<div>\n",
       "<style scoped>\n",
       "    .dataframe tbody tr th:only-of-type {\n",
       "        vertical-align: middle;\n",
       "    }\n",
       "\n",
       "    .dataframe tbody tr th {\n",
       "        vertical-align: top;\n",
       "    }\n",
       "\n",
       "    .dataframe thead th {\n",
       "        text-align: right;\n",
       "    }\n",
       "</style>\n",
       "<table border=\"1\" class=\"dataframe\">\n",
       "  <thead>\n",
       "    <tr style=\"text-align: right;\">\n",
       "      <th>age_category</th>\n",
       "      <th>Middle-aged Adults</th>\n",
       "      <th>Old-aged Adults</th>\n",
       "      <th>Young Adults</th>\n",
       "    </tr>\n",
       "    <tr>\n",
       "      <th>income_category</th>\n",
       "      <th></th>\n",
       "      <th></th>\n",
       "      <th></th>\n",
       "    </tr>\n",
       "  </thead>\n",
       "  <tbody>\n",
       "    <tr>\n",
       "      <th>High income</th>\n",
       "      <td>13.54</td>\n",
       "      <td>84.93</td>\n",
       "      <td>1.52</td>\n",
       "    </tr>\n",
       "    <tr>\n",
       "      <th>Low income</th>\n",
       "      <td>27.49</td>\n",
       "      <td>44.94</td>\n",
       "      <td>27.57</td>\n",
       "    </tr>\n",
       "    <tr>\n",
       "      <th>Middle income</th>\n",
       "      <td>23.49</td>\n",
       "      <td>55.83</td>\n",
       "      <td>20.68</td>\n",
       "    </tr>\n",
       "  </tbody>\n",
       "</table>\n",
       "</div>"
      ],
      "text/plain": [
       "age_category     Middle-aged Adults  Old-aged Adults  Young Adults\n",
       "income_category                                                   \n",
       "High income                   13.54            84.93          1.52\n",
       "Low income                    27.49            44.94         27.57\n",
       "Middle income                 23.49            55.83         20.68"
      ]
     },
     "execution_count": 58,
     "metadata": {},
     "output_type": "execute_result"
    }
   ],
   "source": [
    "# Percentage by income_category and age_category\n",
    "\n",
    "pd.crosstab(customers.income_category, customers.age_category, normalize='index').round(4)*100"
   ]
  },
  {
   "cell_type": "markdown",
   "id": "3eff5ef5",
   "metadata": {},
   "source": [
    "Old-aged Adults have majority of the High income (84,93 %), while Young adults and Middle-agged Adults have almost same percentage of Low income, around 27,5 %."
   ]
  },
  {
   "cell_type": "code",
   "execution_count": 59,
   "id": "c5565500",
   "metadata": {},
   "outputs": [
    {
     "data": {
      "text/html": [
       "<div>\n",
       "<style scoped>\n",
       "    .dataframe tbody tr th:only-of-type {\n",
       "        vertical-align: middle;\n",
       "    }\n",
       "\n",
       "    .dataframe tbody tr th {\n",
       "        vertical-align: top;\n",
       "    }\n",
       "\n",
       "    .dataframe thead th {\n",
       "        text-align: right;\n",
       "    }\n",
       "</style>\n",
       "<table border=\"1\" class=\"dataframe\">\n",
       "  <thead>\n",
       "    <tr style=\"text-align: right;\">\n",
       "      <th>income_category</th>\n",
       "      <th>High income</th>\n",
       "      <th>Low income</th>\n",
       "      <th>Middle income</th>\n",
       "    </tr>\n",
       "    <tr>\n",
       "      <th>age_category</th>\n",
       "      <th></th>\n",
       "      <th></th>\n",
       "      <th></th>\n",
       "    </tr>\n",
       "  </thead>\n",
       "  <tbody>\n",
       "    <tr>\n",
       "      <th>Middle-aged Adults</th>\n",
       "      <td>1.08</td>\n",
       "      <td>4.59</td>\n",
       "      <td>17.69</td>\n",
       "    </tr>\n",
       "    <tr>\n",
       "      <th>Old-aged Adults</th>\n",
       "      <td>6.79</td>\n",
       "      <td>7.50</td>\n",
       "      <td>42.05</td>\n",
       "    </tr>\n",
       "    <tr>\n",
       "      <th>Young Adults</th>\n",
       "      <td>0.12</td>\n",
       "      <td>4.60</td>\n",
       "      <td>15.57</td>\n",
       "    </tr>\n",
       "  </tbody>\n",
       "</table>\n",
       "</div>"
      ],
      "text/plain": [
       "income_category     High income  Low income  Middle income\n",
       "age_category                                              \n",
       "Middle-aged Adults         1.08        4.59          17.69\n",
       "Old-aged Adults            6.79        7.50          42.05\n",
       "Young Adults               0.12        4.60          15.57"
      ]
     },
     "execution_count": 59,
     "metadata": {},
     "output_type": "execute_result"
    }
   ],
   "source": [
    "# Percentage of income and age categories in the total amount of customers\n",
    "\n",
    "income_age_p = pd.crosstab(customers.age_category,customers.income_category).apply(lambda r:r/len(customers), axis=1).round(4)*100\n",
    "income_age_p"
   ]
  },
  {
   "cell_type": "markdown",
   "id": "7b872906",
   "metadata": {},
   "source": [
    "Most of the customers (42,05 %) are Old_aged Adults who have mostly a Middle income "
   ]
  },
  {
   "cell_type": "code",
   "execution_count": 60,
   "id": "561e393e",
   "metadata": {},
   "outputs": [],
   "source": [
    "income_age_p.to_clipboard()"
   ]
  },
  {
   "cell_type": "markdown",
   "id": "71716f6e",
   "metadata": {},
   "source": [
    "## Number of dependants"
   ]
  },
  {
   "cell_type": "code",
   "execution_count": 61,
   "id": "bd23f9ac",
   "metadata": {},
   "outputs": [
    {
     "data": {
      "text/plain": [
       "count    162631.000000\n",
       "mean          1.498675\n",
       "std           1.118166\n",
       "min           0.000000\n",
       "25%           0.000000\n",
       "50%           1.000000\n",
       "75%           2.000000\n",
       "max           3.000000\n",
       "Name: n_dependants, dtype: float64"
      ]
     },
     "execution_count": 61,
     "metadata": {},
     "output_type": "execute_result"
    }
   ],
   "source": [
    "customers['n_dependants'].describe()"
   ]
  },
  {
   "cell_type": "code",
   "execution_count": 63,
   "id": "5018339b",
   "metadata": {},
   "outputs": [],
   "source": [
    "# create a flag that assigns an “n_dependants” label to a user ID based on its age\n",
    "\n",
    "customers.loc[customers['n_dependants'] == 0, 'dependants_category'] = 'No dependents'\n",
    "\n",
    "customers.loc[customers['n_dependants'] ==1, 'dependants_category'] = 'One dependants'\n",
    "\n",
    "customers.loc[customers['n_dependants'] > 1, 'dependants_category'] = 'More than one dependants'"
   ]
  },
  {
   "cell_type": "code",
   "execution_count": 64,
   "id": "32769a83",
   "metadata": {},
   "outputs": [
    {
     "data": {
      "text/plain": [
       "More than one dependants    81215\n",
       "No dependents               40727\n",
       "One dependants              40689\n",
       "Name: dependants_category, dtype: int64"
      ]
     },
     "execution_count": 64,
     "metadata": {},
     "output_type": "execute_result"
    }
   ],
   "source": [
    "depen_count = customers['dependants_category'].value_counts(dropna = False)\n",
    "depen_count"
   ]
  },
  {
   "cell_type": "code",
   "execution_count": 65,
   "id": "9acc64ed",
   "metadata": {},
   "outputs": [
    {
     "data": {
      "image/png": "[encoded data removed]",
      "text/plain": [
       "<Figure size 504x576 with 1 Axes>"
      ]
     },
     "metadata": {},
     "output_type": "display_data"
    }
   ],
   "source": [
    "n_depen_pie = depen_count.plot.pie(figsize = (7,8), colors = sns.color_palette('Blues', 3), autopct = '%1.0f%%')\n",
    "plt.ylabel('')\n",
    "plt.title('Percentage of customers by dependant category',fontsize=13)\n",
    "plt.show()"
   ]
  },
  {
   "cell_type": "code",
   "execution_count": 66,
   "id": "872bd8cd",
   "metadata": {},
   "outputs": [
    {
     "data": {
      "text/html": [
       "<div>\n",
       "<style scoped>\n",
       "    .dataframe tbody tr th:only-of-type {\n",
       "        vertical-align: middle;\n",
       "    }\n",
       "\n",
       "    .dataframe tbody tr th {\n",
       "        vertical-align: top;\n",
       "    }\n",
       "\n",
       "    .dataframe thead tr th {\n",
       "        text-align: left;\n",
       "    }\n",
       "\n",
       "    .dataframe thead tr:last-of-type th {\n",
       "        text-align: right;\n",
       "    }\n",
       "</style>\n",
       "<table border=\"1\" class=\"dataframe\">\n",
       "  <thead>\n",
       "    <tr>\n",
       "      <th></th>\n",
       "      <th colspan=\"3\" halign=\"left\">income</th>\n",
       "    </tr>\n",
       "    <tr>\n",
       "      <th></th>\n",
       "      <th>mean</th>\n",
       "      <th>min</th>\n",
       "      <th>max</th>\n",
       "    </tr>\n",
       "    <tr>\n",
       "      <th>dependants_category</th>\n",
       "      <th></th>\n",
       "      <th></th>\n",
       "      <th></th>\n",
       "    </tr>\n",
       "  </thead>\n",
       "  <tbody>\n",
       "    <tr>\n",
       "      <th>More than one dependants</th>\n",
       "      <td>95732.194090</td>\n",
       "      <td>25911</td>\n",
       "      <td>593901</td>\n",
       "    </tr>\n",
       "    <tr>\n",
       "      <th>No dependents</th>\n",
       "      <td>95604.899796</td>\n",
       "      <td>25903</td>\n",
       "      <td>584097</td>\n",
       "    </tr>\n",
       "    <tr>\n",
       "      <th>One dependants</th>\n",
       "      <td>95677.006537</td>\n",
       "      <td>25937</td>\n",
       "      <td>579397</td>\n",
       "    </tr>\n",
       "  </tbody>\n",
       "</table>\n",
       "</div>"
      ],
      "text/plain": [
       "                                income               \n",
       "                                  mean    min     max\n",
       "dependants_category                                  \n",
       "More than one dependants  95732.194090  25911  593901\n",
       "No dependents             95604.899796  25903  584097\n",
       "One dependants            95677.006537  25937  579397"
      ]
     },
     "execution_count": 66,
     "metadata": {},
     "output_type": "execute_result"
    }
   ],
   "source": [
    "# aggregate an income for dependants_category \n",
    "\n",
    "customers.groupby('dependants_category').agg({'income': ['mean','min','max']})"
   ]
  },
  {
   "cell_type": "code",
   "execution_count": 67,
   "id": "c5171ca1",
   "metadata": {},
   "outputs": [
    {
     "data": {
      "text/html": [
       "<div>\n",
       "<style scoped>\n",
       "    .dataframe tbody tr th:only-of-type {\n",
       "        vertical-align: middle;\n",
       "    }\n",
       "\n",
       "    .dataframe tbody tr th {\n",
       "        vertical-align: top;\n",
       "    }\n",
       "\n",
       "    .dataframe thead th {\n",
       "        text-align: right;\n",
       "    }\n",
       "</style>\n",
       "<table border=\"1\" class=\"dataframe\">\n",
       "  <thead>\n",
       "    <tr style=\"text-align: right;\">\n",
       "      <th>dependants_category</th>\n",
       "      <th>More than one dependants</th>\n",
       "      <th>No dependents</th>\n",
       "      <th>One dependants</th>\n",
       "    </tr>\n",
       "    <tr>\n",
       "      <th>order_frequency_flag</th>\n",
       "      <th></th>\n",
       "      <th></th>\n",
       "      <th></th>\n",
       "    </tr>\n",
       "  </thead>\n",
       "  <tbody>\n",
       "    <tr>\n",
       "      <th>Frequent customer</th>\n",
       "      <td>38033</td>\n",
       "      <td>18906</td>\n",
       "      <td>18988</td>\n",
       "    </tr>\n",
       "    <tr>\n",
       "      <th>Non-frequent customer</th>\n",
       "      <td>18275</td>\n",
       "      <td>9146</td>\n",
       "      <td>9244</td>\n",
       "    </tr>\n",
       "    <tr>\n",
       "      <th>Regular customer</th>\n",
       "      <td>24907</td>\n",
       "      <td>12675</td>\n",
       "      <td>12457</td>\n",
       "    </tr>\n",
       "  </tbody>\n",
       "</table>\n",
       "</div>"
      ],
      "text/plain": [
       "dependants_category    More than one dependants  No dependents  One dependants\n",
       "order_frequency_flag                                                          \n",
       "Frequent customer                         38033          18906           18988\n",
       "Non-frequent customer                     18275           9146            9244\n",
       "Regular customer                          24907          12675           12457"
      ]
     },
     "execution_count": 67,
     "metadata": {},
     "output_type": "execute_result"
    }
   ],
   "source": [
    "# order frequency by dependants category\n",
    "\n",
    "ord_freq_dep = pd.crosstab(customers['order_frequency_flag'], customers['dependants_category'], dropna = False)\n",
    "ord_freq_dep "
   ]
  },
  {
   "cell_type": "code",
   "execution_count": 68,
   "id": "05df07a2",
   "metadata": {},
   "outputs": [
    {
     "data": {
      "image/png": "[encoded data removed]",
      "text/plain": [
       "<Figure size 864x576 with 1 Axes>"
      ]
     },
     "metadata": {},
     "output_type": "display_data"
    }
   ],
   "source": [
    "# Order frequency by dependants category\n",
    "\n",
    "ord_freq_dep_bar = ord_freq_dep.plot.bar(figsize = (12,8), color = sns.color_palette('Blues', 3))\n",
    "\n",
    "sns.set_style('ticks')\n",
    "plt.yticks(fontsize = 13)\n",
    "plt.xlabel(' ')\n",
    "plt.ylabel('Number of orders', fontsize = 13, fontweight = 'bold')\n",
    "plt.yticks(fontsize = 13)\n",
    "plt.title('Order frequency by dependants category', fontsize = 13, fontweight = 'bold')\n",
    "plt.show()"
   ]
  },
  {
   "cell_type": "code",
   "execution_count": 69,
   "id": "a6ebcf5a",
   "metadata": {},
   "outputs": [
    {
     "data": {
      "text/html": [
       "<div>\n",
       "<style scoped>\n",
       "    .dataframe tbody tr th:only-of-type {\n",
       "        vertical-align: middle;\n",
       "    }\n",
       "\n",
       "    .dataframe tbody tr th {\n",
       "        vertical-align: top;\n",
       "    }\n",
       "\n",
       "    .dataframe thead th {\n",
       "        text-align: right;\n",
       "    }\n",
       "</style>\n",
       "<table border=\"1\" class=\"dataframe\">\n",
       "  <thead>\n",
       "    <tr style=\"text-align: right;\">\n",
       "      <th>spending_flag</th>\n",
       "      <th>High spender</th>\n",
       "      <th>Low spender</th>\n",
       "    </tr>\n",
       "    <tr>\n",
       "      <th>dependants_category</th>\n",
       "      <th></th>\n",
       "      <th></th>\n",
       "    </tr>\n",
       "  </thead>\n",
       "  <tbody>\n",
       "    <tr>\n",
       "      <th>More than one dependants</th>\n",
       "      <td>962</td>\n",
       "      <td>80253</td>\n",
       "    </tr>\n",
       "    <tr>\n",
       "      <th>No dependents</th>\n",
       "      <td>515</td>\n",
       "      <td>40212</td>\n",
       "    </tr>\n",
       "    <tr>\n",
       "      <th>One dependants</th>\n",
       "      <td>441</td>\n",
       "      <td>40248</td>\n",
       "    </tr>\n",
       "  </tbody>\n",
       "</table>\n",
       "</div>"
      ],
      "text/plain": [
       "spending_flag             High spender  Low spender\n",
       "dependants_category                                \n",
       "More than one dependants           962        80253\n",
       "No dependents                      515        40212\n",
       "One dependants                     441        40248"
      ]
     },
     "execution_count": 69,
     "metadata": {},
     "output_type": "execute_result"
    }
   ],
   "source": [
    "# spending habits by dependants category\n",
    "\n",
    "spend_dep = pd.crosstab(customers['dependants_category'],customers['spending_flag'], dropna = False)\n",
    "spend_dep "
   ]
  },
  {
   "cell_type": "code",
   "execution_count": 70,
   "id": "c7e57724",
   "metadata": {},
   "outputs": [],
   "source": [
    "spend_dep.to_clipboard()"
   ]
  },
  {
   "cell_type": "markdown",
   "id": "04a3680d",
   "metadata": {},
   "source": [
    "## Departments"
   ]
  },
  {
   "cell_type": "markdown",
   "id": "b6539450",
   "metadata": {},
   "source": [
    "### Baby flag"
   ]
  },
  {
   "cell_type": "code",
   "execution_count": 71,
   "id": "a3a16c4f",
   "metadata": {},
   "outputs": [],
   "source": [
    "# create a \"baby_flag\" by identifying custumers buying on that department\n",
    "\n",
    "cust_ords_prods_merge.loc[cust_ords_prods_merge['department'] == 'babies', 'baby_flag'] = 'Having baby'\n",
    "cust_ords_prods_merge.loc[cust_ords_prods_merge['department'] != 'babies', 'baby_flag'] = 'Not having baby'                         "
   ]
  },
  {
   "cell_type": "code",
   "execution_count": 72,
   "id": "0ba59c49",
   "metadata": {},
   "outputs": [
    {
     "data": {
      "text/plain": [
       "Not having baby    30554172\n",
       "Having baby          410392\n",
       "Name: baby_flag, dtype: int64"
      ]
     },
     "execution_count": 72,
     "metadata": {},
     "output_type": "execute_result"
    }
   ],
   "source": [
    "baby_count = cust_ords_prods_merge['baby_flag'].value_counts(dropna = False)\n",
    "baby_count"
   ]
  },
  {
   "cell_type": "code",
   "execution_count": 73,
   "id": "d6051c34",
   "metadata": {},
   "outputs": [
    {
     "data": {
      "image/png": "[encoded data removed]",
      "text/plain": [
       "<Figure size 432x288 with 1 Axes>"
      ]
     },
     "metadata": {},
     "output_type": "display_data"
    }
   ],
   "source": [
    "#number of customers buying baby prodacts-bar chart\n",
    "\n",
    "baby_bar = cust_ords_prods_merge['baby_flag'].value_counts().sort_values().plot.barh(color = sns.color_palette('Blues', 2), fontsize=20)\n",
    "\n",
    "sns.set_style('ticks')\n",
    "plt.yticks(fontsize = 13)\n",
    "plt.xlabel('Number of customers in ten millions',fontsize = 13)\n",
    "plt.ylabel('')\n",
    "plt.yticks(fontsize = 13)\n",
    "plt.title('Number of customers buying baby products', fontsize = 13, fontweight = 'bold')\n",
    "plt.show()"
   ]
  },
  {
   "cell_type": "code",
   "execution_count": 74,
   "id": "ad12b5ee",
   "metadata": {},
   "outputs": [
    {
     "data": {
      "image/png": "[encoded data removed]",
      "text/plain": [
       "<Figure size 504x576 with 1 Axes>"
      ]
     },
     "metadata": {},
     "output_type": "display_data"
    }
   ],
   "source": [
    "baby_count_pie = baby_count.plot.pie(figsize = (7,8), colors = sns.color_palette('Blues', 2), autopct = '%1.0f%%')\n",
    "plt.ylabel('')\n",
    "plt.title('Percentage of customers by dependant category',fontsize=13)\n",
    "plt.show()"
   ]
  },
  {
   "cell_type": "code",
   "execution_count": 75,
   "id": "deb8bb10",
   "metadata": {},
   "outputs": [
    {
     "data": {
      "text/html": [
       "<div>\n",
       "<style scoped>\n",
       "    .dataframe tbody tr th:only-of-type {\n",
       "        vertical-align: middle;\n",
       "    }\n",
       "\n",
       "    .dataframe tbody tr th {\n",
       "        vertical-align: top;\n",
       "    }\n",
       "\n",
       "    .dataframe thead th {\n",
       "        text-align: right;\n",
       "    }\n",
       "</style>\n",
       "<table border=\"1\" class=\"dataframe\">\n",
       "  <thead>\n",
       "    <tr style=\"text-align: right;\">\n",
       "      <th>baby_flag</th>\n",
       "      <th>Having baby</th>\n",
       "      <th>Not having baby</th>\n",
       "    </tr>\n",
       "    <tr>\n",
       "      <th>order_frequency_flag</th>\n",
       "      <th></th>\n",
       "      <th></th>\n",
       "    </tr>\n",
       "  </thead>\n",
       "  <tbody>\n",
       "    <tr>\n",
       "      <th>Frequent customer</th>\n",
       "      <td>316214</td>\n",
       "      <td>20888262</td>\n",
       "    </tr>\n",
       "    <tr>\n",
       "      <th>Non-frequent customer</th>\n",
       "      <td>25297</td>\n",
       "      <td>2869678</td>\n",
       "    </tr>\n",
       "    <tr>\n",
       "      <th>Regular customer</th>\n",
       "      <td>68881</td>\n",
       "      <td>6796232</td>\n",
       "    </tr>\n",
       "  </tbody>\n",
       "</table>\n",
       "</div>"
      ],
      "text/plain": [
       "baby_flag              Having baby  Not having baby\n",
       "order_frequency_flag                               \n",
       "Frequent customer           316214         20888262\n",
       "Non-frequent customer        25297          2869678\n",
       "Regular customer             68881          6796232"
      ]
     },
     "execution_count": 75,
     "metadata": {},
     "output_type": "execute_result"
    }
   ],
   "source": [
    "order_frequency_having_baby = pd.crosstab(cust_ords_prods_merge['order_frequency_flag'], cust_ords_prods_merge['baby_flag'], dropna = False )\n",
    "order_frequency_having_baby "
   ]
  },
  {
   "cell_type": "code",
   "execution_count": 76,
   "id": "1c90ca41",
   "metadata": {},
   "outputs": [
    {
     "data": {
      "image/png": "[encoded data removed]",
      "text/plain": [
       "<Figure size 864x576 with 1 Axes>"
      ]
     },
     "metadata": {},
     "output_type": "display_data"
    }
   ],
   "source": [
    "baby_barh = order_frequency_having_baby.plot.barh(figsize = (12,8), color = sns.color_palette('Blues', 3))\n",
    "\n",
    "sns.set_style('ticks')\n",
    "plt.yticks(fontsize = 13)\n",
    "plt.xlabel('Number of customers in ten millions',fontsize = 13, fontweight = 'bold')\n",
    "plt.ylabel('')\n",
    "plt.yticks(fontsize = 13)\n",
    "plt.title('Order frequency depending on buying baby products', fontsize = 13, fontweight = 'bold')\n",
    "plt.show()"
   ]
  },
  {
   "cell_type": "code",
   "execution_count": 77,
   "id": "4c7485b0",
   "metadata": {},
   "outputs": [
    {
     "data": {
      "text/html": [
       "<div>\n",
       "<style scoped>\n",
       "    .dataframe tbody tr th:only-of-type {\n",
       "        vertical-align: middle;\n",
       "    }\n",
       "\n",
       "    .dataframe tbody tr th {\n",
       "        vertical-align: top;\n",
       "    }\n",
       "\n",
       "    .dataframe thead tr th {\n",
       "        text-align: left;\n",
       "    }\n",
       "\n",
       "    .dataframe thead tr:last-of-type th {\n",
       "        text-align: right;\n",
       "    }\n",
       "</style>\n",
       "<table border=\"1\" class=\"dataframe\">\n",
       "  <thead>\n",
       "    <tr>\n",
       "      <th></th>\n",
       "      <th colspan=\"3\" halign=\"left\">prices</th>\n",
       "    </tr>\n",
       "    <tr>\n",
       "      <th></th>\n",
       "      <th>mean</th>\n",
       "      <th>min</th>\n",
       "      <th>max</th>\n",
       "    </tr>\n",
       "    <tr>\n",
       "      <th>baby_flag</th>\n",
       "      <th></th>\n",
       "      <th></th>\n",
       "      <th></th>\n",
       "    </tr>\n",
       "  </thead>\n",
       "  <tbody>\n",
       "    <tr>\n",
       "      <th>Having baby</th>\n",
       "      <td>7.634399</td>\n",
       "      <td>1.0</td>\n",
       "      <td>15.0</td>\n",
       "    </tr>\n",
       "    <tr>\n",
       "      <th>Not having baby</th>\n",
       "      <td>7.792688</td>\n",
       "      <td>1.0</td>\n",
       "      <td>25.0</td>\n",
       "    </tr>\n",
       "  </tbody>\n",
       "</table>\n",
       "</div>"
      ],
      "text/plain": [
       "                   prices           \n",
       "                     mean  min   max\n",
       "baby_flag                           \n",
       "Having baby      7.634399  1.0  15.0\n",
       "Not having baby  7.792688  1.0  25.0"
      ]
     },
     "execution_count": 77,
     "metadata": {},
     "output_type": "execute_result"
    }
   ],
   "source": [
    "cust_ords_prods_merge.groupby('baby_flag').agg({'prices': ['mean', 'min', 'max']})"
   ]
  },
  {
   "cell_type": "markdown",
   "id": "1f84c4d0",
   "metadata": {},
   "source": [
    "### Pet flag"
   ]
  },
  {
   "cell_type": "code",
   "execution_count": 78,
   "id": "bfd19194",
   "metadata": {},
   "outputs": [],
   "source": [
    "# create a pet_flag by identifying customers that are buyng products in pet department and apply it on custumers df\n",
    "\n",
    "cust_ords_prods_merge.loc[cust_ords_prods_merge['department'] == 'pets', 'pet_flag'] = 'Having pets'\n",
    "cust_ords_prods_merge.loc[cust_ords_prods_merge['department'] != 'pets', 'pet_flag'] = 'Not having pets' "
   ]
  },
  {
   "cell_type": "code",
   "execution_count": 79,
   "id": "edcfe437",
   "metadata": {},
   "outputs": [
    {
     "data": {
      "text/plain": [
       "Not having pets    30871504\n",
       "Having pets           93060\n",
       "Name: pet_flag, dtype: int64"
      ]
     },
     "execution_count": 79,
     "metadata": {},
     "output_type": "execute_result"
    }
   ],
   "source": [
    "cust_ords_prods_merge['pet_flag'].value_counts(dropna = False)"
   ]
  },
  {
   "cell_type": "code",
   "execution_count": 80,
   "id": "fab5821f",
   "metadata": {},
   "outputs": [
    {
     "data": {
      "image/png": "[encoded data removed]",
      "text/plain": [
       "<Figure size 432x288 with 1 Axes>"
      ]
     },
     "metadata": {},
     "output_type": "display_data"
    }
   ],
   "source": [
    "# number of customers buying pet products\n",
    "\n",
    "pet_bar = cust_ords_prods_merge['pet_flag'].value_counts().sort_values().plot.barh(color = sns.color_palette('Blues', 2), fontsize=20)\n",
    "\n",
    "sns.set_style('ticks')\n",
    "plt.yticks(fontsize = 13)\n",
    "plt.xlabel('Number of customers in ten millions',fontsize = 13)\n",
    "plt.ylabel('')\n",
    "plt.yticks(fontsize = 13)\n",
    "plt.title('Number of customer buying pet products', fontsize = 13, fontweight = 'bold')\n",
    "plt.show()"
   ]
  },
  {
   "cell_type": "code",
   "execution_count": 81,
   "id": "870ec3c8",
   "metadata": {},
   "outputs": [
    {
     "data": {
      "text/html": [
       "<div>\n",
       "<style scoped>\n",
       "    .dataframe tbody tr th:only-of-type {\n",
       "        vertical-align: middle;\n",
       "    }\n",
       "\n",
       "    .dataframe tbody tr th {\n",
       "        vertical-align: top;\n",
       "    }\n",
       "\n",
       "    .dataframe thead tr th {\n",
       "        text-align: left;\n",
       "    }\n",
       "\n",
       "    .dataframe thead tr:last-of-type th {\n",
       "        text-align: right;\n",
       "    }\n",
       "</style>\n",
       "<table border=\"1\" class=\"dataframe\">\n",
       "  <thead>\n",
       "    <tr>\n",
       "      <th></th>\n",
       "      <th colspan=\"3\" halign=\"left\">order_number</th>\n",
       "    </tr>\n",
       "    <tr>\n",
       "      <th></th>\n",
       "      <th>mean</th>\n",
       "      <th>min</th>\n",
       "      <th>max</th>\n",
       "    </tr>\n",
       "    <tr>\n",
       "      <th>pet_flag</th>\n",
       "      <th></th>\n",
       "      <th></th>\n",
       "      <th></th>\n",
       "    </tr>\n",
       "  </thead>\n",
       "  <tbody>\n",
       "    <tr>\n",
       "      <th>Having pets</th>\n",
       "      <td>15.995927</td>\n",
       "      <td>1</td>\n",
       "      <td>99</td>\n",
       "    </tr>\n",
       "    <tr>\n",
       "      <th>Not having pets</th>\n",
       "      <td>17.839683</td>\n",
       "      <td>1</td>\n",
       "      <td>99</td>\n",
       "    </tr>\n",
       "  </tbody>\n",
       "</table>\n",
       "</div>"
      ],
      "text/plain": [
       "                order_number        \n",
       "                        mean min max\n",
       "pet_flag                            \n",
       "Having pets        15.995927   1  99\n",
       "Not having pets    17.839683   1  99"
      ]
     },
     "execution_count": 81,
     "metadata": {},
     "output_type": "execute_result"
    }
   ],
   "source": [
    "cust_ords_prods_merge.groupby('pet_flag').agg({'order_number': ['mean', 'min', 'max']})"
   ]
  },
  {
   "cell_type": "code",
   "execution_count": 82,
   "id": "2051c9f3",
   "metadata": {},
   "outputs": [
    {
     "data": {
      "text/html": [
       "<div>\n",
       "<style scoped>\n",
       "    .dataframe tbody tr th:only-of-type {\n",
       "        vertical-align: middle;\n",
       "    }\n",
       "\n",
       "    .dataframe tbody tr th {\n",
       "        vertical-align: top;\n",
       "    }\n",
       "\n",
       "    .dataframe thead th {\n",
       "        text-align: right;\n",
       "    }\n",
       "</style>\n",
       "<table border=\"1\" class=\"dataframe\">\n",
       "  <thead>\n",
       "    <tr style=\"text-align: right;\">\n",
       "      <th>pet_flag</th>\n",
       "      <th>Having pets</th>\n",
       "      <th>Not having pets</th>\n",
       "    </tr>\n",
       "    <tr>\n",
       "      <th>region</th>\n",
       "      <th></th>\n",
       "      <th></th>\n",
       "    </tr>\n",
       "  </thead>\n",
       "  <tbody>\n",
       "    <tr>\n",
       "      <th>Midwest</th>\n",
       "      <td>21358</td>\n",
       "      <td>7240155</td>\n",
       "    </tr>\n",
       "    <tr>\n",
       "      <th>Northeast</th>\n",
       "      <td>17734</td>\n",
       "      <td>5446951</td>\n",
       "    </tr>\n",
       "    <tr>\n",
       "      <th>South</th>\n",
       "      <td>29909</td>\n",
       "      <td>10281230</td>\n",
       "    </tr>\n",
       "    <tr>\n",
       "      <th>West</th>\n",
       "      <td>24059</td>\n",
       "      <td>7903168</td>\n",
       "    </tr>\n",
       "  </tbody>\n",
       "</table>\n",
       "</div>"
      ],
      "text/plain": [
       "pet_flag   Having pets  Not having pets\n",
       "region                                 \n",
       "Midwest          21358          7240155\n",
       "Northeast        17734          5446951\n",
       "South            29909         10281230\n",
       "West             24059          7903168"
      ]
     },
     "execution_count": 82,
     "metadata": {},
     "output_type": "execute_result"
    }
   ],
   "source": [
    "reg_pet = pd.crosstab(cust_ords_prods_merge['region'], cust_ords_prods_merge['pet_flag'], dropna = False )\n",
    "reg_pet"
   ]
  },
  {
   "cell_type": "code",
   "execution_count": 83,
   "id": "3653b7bb",
   "metadata": {},
   "outputs": [],
   "source": [
    "reg_pet.to_clipboard()"
   ]
  },
  {
   "cell_type": "markdown",
   "id": "b9505974",
   "metadata": {},
   "source": [
    "### Vegetarian flag"
   ]
  },
  {
   "cell_type": "code",
   "execution_count": 84,
   "id": "b7442713",
   "metadata": {},
   "outputs": [],
   "source": [
    "# create a Veget_flag by identifying customers that are (not) buyng products in meat/seafood department and applying it \n",
    "\n",
    "cust_ords_prods_merge.loc[cust_ords_prods_merge['department'] != 'meat seafood', 'veget_flag'] = 'Vegetarian'\n",
    "cust_ords_prods_merge.loc[cust_ords_prods_merge['department'] == 'meat seafood', 'veget_flag'] = 'Not vegetarian' "
   ]
  },
  {
   "cell_type": "code",
   "execution_count": 85,
   "id": "fa662887",
   "metadata": {},
   "outputs": [
    {
     "data": {
      "text/plain": [
       "Vegetarian        30289783\n",
       "Not vegetarian      674781\n",
       "Name: veget_flag, dtype: int64"
      ]
     },
     "execution_count": 85,
     "metadata": {},
     "output_type": "execute_result"
    }
   ],
   "source": [
    "cust_ords_prods_merge['veget_flag'].value_counts(dropna = False)"
   ]
  },
  {
   "cell_type": "code",
   "execution_count": 86,
   "id": "845f045d",
   "metadata": {},
   "outputs": [
    {
     "data": {
      "image/png": "[encoded data removed]",
      "text/plain": [
       "<Figure size 432x288 with 1 Axes>"
      ]
     },
     "metadata": {},
     "output_type": "display_data"
    }
   ],
   "source": [
    "# number of customers buying vegetarian products\n",
    "\n",
    "veget_bar = cust_ords_prods_merge['veget_flag'].value_counts().sort_values().plot.barh(color = sns.color_palette('Blues', 2), fontsize=20)\n",
    "\n",
    "sns.set_style('ticks')\n",
    "plt.yticks(fontsize = 13)\n",
    "plt.xlabel('Number of customers in ten millions',fontsize = 13)\n",
    "plt.ylabel('')\n",
    "plt.yticks(fontsize = 13)\n",
    "plt.title('Number of customer buying vegetarian products', fontsize = 13, fontweight = 'bold')\n",
    "plt.show()"
   ]
  },
  {
   "cell_type": "code",
   "execution_count": 87,
   "id": "7b7ab05b",
   "metadata": {},
   "outputs": [
    {
     "data": {
      "text/html": [
       "<div>\n",
       "<style scoped>\n",
       "    .dataframe tbody tr th:only-of-type {\n",
       "        vertical-align: middle;\n",
       "    }\n",
       "\n",
       "    .dataframe tbody tr th {\n",
       "        vertical-align: top;\n",
       "    }\n",
       "\n",
       "    .dataframe thead tr th {\n",
       "        text-align: left;\n",
       "    }\n",
       "\n",
       "    .dataframe thead tr:last-of-type th {\n",
       "        text-align: right;\n",
       "    }\n",
       "</style>\n",
       "<table border=\"1\" class=\"dataframe\">\n",
       "  <thead>\n",
       "    <tr>\n",
       "      <th></th>\n",
       "      <th colspan=\"3\" halign=\"left\">order_number</th>\n",
       "    </tr>\n",
       "    <tr>\n",
       "      <th></th>\n",
       "      <th>mean</th>\n",
       "      <th>min</th>\n",
       "      <th>max</th>\n",
       "    </tr>\n",
       "    <tr>\n",
       "      <th>veget_flag</th>\n",
       "      <th></th>\n",
       "      <th></th>\n",
       "      <th></th>\n",
       "    </tr>\n",
       "  </thead>\n",
       "  <tbody>\n",
       "    <tr>\n",
       "      <th>Not vegetarian</th>\n",
       "      <td>16.576910</td>\n",
       "      <td>1</td>\n",
       "      <td>99</td>\n",
       "    </tr>\n",
       "    <tr>\n",
       "      <th>Vegetarian</th>\n",
       "      <td>17.862149</td>\n",
       "      <td>1</td>\n",
       "      <td>99</td>\n",
       "    </tr>\n",
       "  </tbody>\n",
       "</table>\n",
       "</div>"
      ],
      "text/plain": [
       "               order_number        \n",
       "                       mean min max\n",
       "veget_flag                         \n",
       "Not vegetarian    16.576910   1  99\n",
       "Vegetarian        17.862149   1  99"
      ]
     },
     "execution_count": 87,
     "metadata": {},
     "output_type": "execute_result"
    }
   ],
   "source": [
    "cust_ords_prods_merge.groupby('veget_flag').agg({'order_number': ['mean', 'min', 'max']})"
   ]
  },
  {
   "cell_type": "code",
   "execution_count": 88,
   "id": "e049d42c",
   "metadata": {},
   "outputs": [
    {
     "data": {
      "text/html": [
       "<div>\n",
       "<style scoped>\n",
       "    .dataframe tbody tr th:only-of-type {\n",
       "        vertical-align: middle;\n",
       "    }\n",
       "\n",
       "    .dataframe tbody tr th {\n",
       "        vertical-align: top;\n",
       "    }\n",
       "\n",
       "    .dataframe thead tr th {\n",
       "        text-align: left;\n",
       "    }\n",
       "\n",
       "    .dataframe thead tr:last-of-type th {\n",
       "        text-align: right;\n",
       "    }\n",
       "</style>\n",
       "<table border=\"1\" class=\"dataframe\">\n",
       "  <thead>\n",
       "    <tr>\n",
       "      <th></th>\n",
       "      <th colspan=\"3\" halign=\"left\">prices</th>\n",
       "    </tr>\n",
       "    <tr>\n",
       "      <th></th>\n",
       "      <th>mean</th>\n",
       "      <th>min</th>\n",
       "      <th>max</th>\n",
       "    </tr>\n",
       "    <tr>\n",
       "      <th>pet_flag</th>\n",
       "      <th></th>\n",
       "      <th></th>\n",
       "      <th></th>\n",
       "    </tr>\n",
       "  </thead>\n",
       "  <tbody>\n",
       "    <tr>\n",
       "      <th>Having pets</th>\n",
       "      <td>7.887489</td>\n",
       "      <td>1.0</td>\n",
       "      <td>15.0</td>\n",
       "    </tr>\n",
       "    <tr>\n",
       "      <th>Not having pets</th>\n",
       "      <td>7.790298</td>\n",
       "      <td>1.0</td>\n",
       "      <td>25.0</td>\n",
       "    </tr>\n",
       "  </tbody>\n",
       "</table>\n",
       "</div>"
      ],
      "text/plain": [
       "                   prices           \n",
       "                     mean  min   max\n",
       "pet_flag                            \n",
       "Having pets      7.887489  1.0  15.0\n",
       "Not having pets  7.790298  1.0  25.0"
      ]
     },
     "execution_count": 88,
     "metadata": {},
     "output_type": "execute_result"
    }
   ],
   "source": [
    "cust_ords_prods_merge.groupby('pet_flag').agg({'prices': ['mean', 'min', 'max']})"
   ]
  },
  {
   "cell_type": "code",
   "execution_count": 89,
   "id": "0fb6147d",
   "metadata": {},
   "outputs": [
    {
     "data": {
      "text/html": [
       "<div>\n",
       "<style scoped>\n",
       "    .dataframe tbody tr th:only-of-type {\n",
       "        vertical-align: middle;\n",
       "    }\n",
       "\n",
       "    .dataframe tbody tr th {\n",
       "        vertical-align: top;\n",
       "    }\n",
       "\n",
       "    .dataframe thead th {\n",
       "        text-align: right;\n",
       "    }\n",
       "</style>\n",
       "<table border=\"1\" class=\"dataframe\">\n",
       "  <thead>\n",
       "    <tr style=\"text-align: right;\">\n",
       "      <th>veget_flag</th>\n",
       "      <th>Not vegetarian</th>\n",
       "      <th>Vegetarian</th>\n",
       "    </tr>\n",
       "    <tr>\n",
       "      <th>region</th>\n",
       "      <th></th>\n",
       "      <th></th>\n",
       "    </tr>\n",
       "  </thead>\n",
       "  <tbody>\n",
       "    <tr>\n",
       "      <th>Midwest</th>\n",
       "      <td>158260</td>\n",
       "      <td>7103253</td>\n",
       "    </tr>\n",
       "    <tr>\n",
       "      <th>Northeast</th>\n",
       "      <td>118571</td>\n",
       "      <td>5346114</td>\n",
       "    </tr>\n",
       "    <tr>\n",
       "      <th>South</th>\n",
       "      <td>224120</td>\n",
       "      <td>10087019</td>\n",
       "    </tr>\n",
       "    <tr>\n",
       "      <th>West</th>\n",
       "      <td>173830</td>\n",
       "      <td>7753397</td>\n",
       "    </tr>\n",
       "  </tbody>\n",
       "</table>\n",
       "</div>"
      ],
      "text/plain": [
       "veget_flag  Not vegetarian  Vegetarian\n",
       "region                                \n",
       "Midwest             158260     7103253\n",
       "Northeast           118571     5346114\n",
       "South               224120    10087019\n",
       "West                173830     7753397"
      ]
     },
     "execution_count": 89,
     "metadata": {},
     "output_type": "execute_result"
    }
   ],
   "source": [
    "veget_regio = pd.crosstab(cust_ords_prods_merge['region'], cust_ords_prods_merge['veget_flag'], dropna = False )\n",
    "veget_regio"
   ]
  },
  {
   "cell_type": "code",
   "execution_count": 90,
   "id": "4fcedf4b",
   "metadata": {},
   "outputs": [],
   "source": [
    "veget_regio.to_clipboard()"
   ]
  },
  {
   "cell_type": "markdown",
   "id": "35134887",
   "metadata": {},
   "source": [
    "# Key questions"
   ]
  },
  {
   "cell_type": "markdown",
   "id": "2ed0f58a",
   "metadata": {},
   "source": [
    "* What is the busiest day of the week?"
   ]
  },
  {
   "cell_type": "code",
   "execution_count": 91,
   "id": "53374603",
   "metadata": {},
   "outputs": [
    {
     "data": {
      "text/plain": [
       "0    5908610\n",
       "1    5411686\n",
       "6    4291304\n",
       "5    4033729\n",
       "2    4024706\n",
       "3    3669535\n",
       "4    3624994\n",
       "Name: orders_day_of_week, dtype: int64"
      ]
     },
     "execution_count": 91,
     "metadata": {},
     "output_type": "execute_result"
    }
   ],
   "source": [
    "# on which days most orders take place\n",
    "\n",
    "cust_ords_prods_merge['orders_day_of_week'].value_counts (dropna = False)"
   ]
  },
  {
   "cell_type": "code",
   "execution_count": 92,
   "id": "c955f5b5",
   "metadata": {},
   "outputs": [
    {
     "data": {
      "image/png": "[encoded data removed]",
      "text/plain": [
       "<Figure size 864x576 with 1 Axes>"
      ]
     },
     "metadata": {},
     "output_type": "display_data"
    }
   ],
   "source": [
    "# on which days most orders take place - bar chart\n",
    "\n",
    "dow_orders_bar = cust_ords_prods_merge['orders_day_of_week'].value_counts().sort_index(ascending=True).plot.bar(figsize = (12,8), color = sns.color_palette(\"muted\")[0])\n",
    "\n",
    "sns.set_style('ticks')\n",
    "plt.xlabel('Days of the week (0 - Saturday)',fontsize=13, fontweight = 'bold')\n",
    "plt.ylabel('Number of orders placed ( in millions)',fontsize=13, fontweight = 'bold')\n",
    "plt.xticks(fontsize = 13)\n",
    "plt.yticks(fontsize = 13)\n",
    "plt.title('Days of the week when orders are placed',fontsize=13, fontweight = 'bold')\n",
    "plt.show()"
   ]
  },
  {
   "cell_type": "markdown",
   "id": "8691a4ad",
   "metadata": {},
   "source": [
    "* Is there a particular time of the day that is busy?"
   ]
  },
  {
   "cell_type": "code",
   "execution_count": 93,
   "id": "bcd725d6",
   "metadata": {},
   "outputs": [
    {
     "data": {
      "text/plain": [
       "10    2649744\n",
       "11    2614880\n",
       "14    2567903\n",
       "13    2539276\n",
       "15    2535966\n",
       "12    2495795\n",
       "16    2413681\n",
       "9     2363611\n",
       "17    1982345\n",
       "8     1659110\n",
       "18    1551184\n",
       "19    1193878\n",
       "20     930909\n",
       "7      863213\n",
       "21     763111\n",
       "22     607060\n",
       "23     384554\n",
       "6      281013\n",
       "0      208042\n",
       "1      109621\n",
       "5       84418\n",
       "2       65691\n",
       "4       50763\n",
       "3       48796\n",
       "Name: order_hour_of_day, dtype: int64"
      ]
     },
     "execution_count": 93,
     "metadata": {},
     "output_type": "execute_result"
    }
   ],
   "source": [
    "# identify the busiest hours of the day\n",
    "\n",
    "cust_ords_prods_merge['order_hour_of_day' ].value_counts (dropna = False)"
   ]
  },
  {
   "cell_type": "code",
   "execution_count": 94,
   "id": "d5ab65e0",
   "metadata": {},
   "outputs": [
    {
     "data": {
      "image/png": "[encoded data removed]",
      "text/plain": [
       "<Figure size 864x576 with 1 Axes>"
      ]
     },
     "metadata": {},
     "output_type": "display_data"
    }
   ],
   "source": [
    "# what time of the day most orders take place - bar chart\n",
    "\n",
    "hod_orders_bar = cust_ords_prods_merge['order_hour_of_day'].value_counts().sort_index().plot.bar(figsize = (12,8), color = sns.color_palette(\"muted\")[0])\n",
    "\n",
    "sns.set_style('ticks')\n",
    "plt.xlabel('Hour of the day (0 - 23)',fontsize=13, fontweight = 'bold')\n",
    "plt.ylabel('Number of orders placed ( in millions)',fontsize=13, fontweight = 'bold')\n",
    "plt.xticks(fontsize = 13)\n",
    "plt.yticks(fontsize = 13)\n",
    "plt.title('Hour of the day when orders are placed',fontsize=13, fontweight = 'bold')\n",
    "plt.show()"
   ]
  },
  {
   "cell_type": "markdown",
   "id": "361e17ad",
   "metadata": {},
   "source": [
    "###### The majority of orders were placed between 9 am and 16 pm, during the lunch hour, as shown by the chart. The busiest hour is specifically around 10 am. It seems that customers prefer to place orders during their free time or after they get home from work because that is when they can order the necessary groceries."
   ]
  },
  {
   "cell_type": "markdown",
   "id": "4c2b157d",
   "metadata": {},
   "source": [
    "* Distribution of orders based on a customer's loyalty status"
   ]
  },
  {
   "cell_type": "code",
   "execution_count": 95,
   "id": "5a7fd71e",
   "metadata": {},
   "outputs": [
    {
     "data": {
      "image/png": "[encoded data removed]",
      "text/plain": [
       "<Figure size 936x432 with 1 Axes>"
      ]
     },
     "metadata": {},
     "output_type": "display_data"
    }
   ],
   "source": [
    "# check the distribution of orders among customers in terms of loyalty\n",
    "\n",
    "bar_orders_loyal = customers['loyalty_flag'].value_counts().plot.barh(figsize = (13,6), color = ['#047CD6','#269EF9','#8FC9F4'])\n",
    "\n",
    "sns.set_style('ticks')\n",
    "plt.xlabel('Number of orders placed',fontsize=12, fontweight = 'bold')\n",
    "plt.ylabel('Loyalty status',fontsize=12, fontweight = 'bold')\n",
    "plt.xticks(fontsize = 10)\n",
    "plt.yticks(fontsize = 10)\n",
    "plt.title('Orders among customers based on a loyalty status',fontsize=13, fontweight = 'bold')\n",
    "plt.show()"
   ]
  },
  {
   "cell_type": "code",
   "execution_count": 96,
   "id": "b0e99a00",
   "metadata": {},
   "outputs": [
    {
     "data": {
      "text/plain": [
       "Regular customer    76864\n",
       "New customer        68750\n",
       "Loyal customer      17017\n",
       "Name: loyalty_flag, dtype: int64"
      ]
     },
     "execution_count": 96,
     "metadata": {},
     "output_type": "execute_result"
    }
   ],
   "source": [
    "customers['loyalty_flag'].value_counts()"
   ]
  },
  {
   "cell_type": "code",
   "execution_count": 97,
   "id": "f514da73",
   "metadata": {},
   "outputs": [
    {
     "data": {
      "image/png": "[encoded data removed]",
      "text/plain": [
       "<Figure size 936x432 with 1 Axes>"
      ]
     },
     "metadata": {},
     "output_type": "display_data"
    }
   ],
   "source": [
    "cust_count_bar = customers['loyalty_flag'].value_counts().plot.bar(figsize = (13,6), color = ['#047CD6','#269EF9','#8FC9F4'])\n",
    "\n",
    "sns.set_style('ticks')\n",
    "plt.xlabel('Loyalty status',fontsize=13, fontweight = 'bold')\n",
    "plt.ylabel('Number of customers',fontsize=12, fontweight = 'bold')\n",
    "plt.xticks(fontsize = 13)\n",
    "plt.yticks(fontsize = 13)\n",
    "plt.title('Distribution of customers based on their loyalty',fontsize=13, fontweight = 'bold')\n",
    "plt.show()"
   ]
  },
  {
   "cell_type": "markdown",
   "id": "c2c0667f",
   "metadata": {},
   "source": [
    "* Which departments have the highest frequency of product orders?"
   ]
  },
  {
   "cell_type": "code",
   "execution_count": 98,
   "id": "9da83976",
   "metadata": {},
   "outputs": [
    {
     "data": {
      "text/plain": [
       "produce            9079273\n",
       "dairy eggs         5177182\n",
       "snacks             2766406\n",
       "beverages          2571901\n",
       "frozen             2121731\n",
       "pantry             1782705\n",
       "bakery             1120828\n",
       "canned goods       1012074\n",
       "deli               1003834\n",
       "dry goods pasta     822136\n",
       "household           699857\n",
       "meat seafood        674781\n",
       "breakfast           670850\n",
       "personal care       424306\n",
       "babies              410392\n",
       "international       255991\n",
       "alcohol             144627\n",
       "pets                 93060\n",
       "missing              64768\n",
       "other                34411\n",
       "bulk                 33451\n",
       "Name: department, dtype: int64"
      ]
     },
     "execution_count": 98,
     "metadata": {},
     "output_type": "execute_result"
    }
   ],
   "source": [
    "# count the orders for each department\n",
    "\n",
    "cust_ords_prods_merge['department'].value_counts()"
   ]
  },
  {
   "cell_type": "code",
   "execution_count": 99,
   "id": "a6fcf25d",
   "metadata": {},
   "outputs": [
    {
     "data": {
      "image/png": "[encoded data removed]",
      "text/plain": [
       "<Figure size 1008x864 with 1 Axes>"
      ]
     },
     "metadata": {},
     "output_type": "display_data"
    }
   ],
   "source": [
    "# count the orders for each department bar chart\n",
    "\n",
    "dep_ord_bar=cust_ords_prods_merge['department'].value_counts().sort_values(ascending = False).plot(kind = 'bar',color = sns.color_palette(\"muted\")[0],figsize=[14,12])\n",
    "\n",
    "sns.set_style('ticks')\n",
    "plt.xlabel('Departments',fontsize=13, fontweight = 'bold')\n",
    "plt.ylabel('Number of orders in millions',fontsize=12, fontweight = 'bold')\n",
    "plt.xticks(fontsize = 13)\n",
    "plt.yticks(fontsize = 13)\n",
    "plt.title('Distribution of orders for each department',fontsize=13, fontweight = 'bold')\n",
    "plt.show()"
   ]
  },
  {
   "cell_type": "markdown",
   "id": "2815883d",
   "metadata": {},
   "source": [
    "* Differences in ordering habits based on a customer's region"
   ]
  },
  {
   "cell_type": "code",
   "execution_count": 100,
   "id": "747608f5",
   "metadata": {},
   "outputs": [
    {
     "data": {
      "image/png": "[encoded data removed]",
      "text/plain": [
       "<Figure size 936x432 with 1 Axes>"
      ]
     },
     "metadata": {},
     "output_type": "display_data"
    }
   ],
   "source": [
    "# check the distribution of orders among customers in different regions\n",
    "\n",
    "barh_orders_loyal = customers['region'].value_counts().plot.barh(figsize = (13,6), color = sns.color_palette(\"muted\")[0])\n",
    "\n",
    "sns.set_style('ticks')\n",
    "plt.xlabel('Number of orders placed',fontsize=13, fontweight = 'bold')\n",
    "plt.ylabel('Region',fontsize=12, fontweight = 'bold')\n",
    "plt.xticks(fontsize = 13)\n",
    "plt.yticks(fontsize = 13)\n",
    "plt.title('Orders among customers in diffferent region',fontsize=13, fontweight = 'bold')\n",
    "plt.show()"
   ]
  },
  {
   "cell_type": "code",
   "execution_count": 101,
   "id": "1f863975",
   "metadata": {},
   "outputs": [
    {
     "data": {
      "text/plain": [
       "South        54193\n",
       "West         41481\n",
       "Midwest      38376\n",
       "Northeast    28581\n",
       "Name: region, dtype: int64"
      ]
     },
     "execution_count": 101,
     "metadata": {},
     "output_type": "execute_result"
    }
   ],
   "source": [
    "customers['region'].value_counts()"
   ]
  },
  {
   "cell_type": "markdown",
   "id": "3777dd23",
   "metadata": {},
   "source": [
    "* Explore whether there’s a connection between age and spending power (income)"
   ]
  },
  {
   "cell_type": "code",
   "execution_count": 102,
   "id": "6d1a1961",
   "metadata": {},
   "outputs": [
    {
     "data": {
      "image/png": "[encoded data removed]",
      "text/plain": [
       "<Figure size 432x288 with 1 Axes>"
      ]
     },
     "metadata": {},
     "output_type": "display_data"
    }
   ],
   "source": [
    "# create a scatterplot to check if ther e is connection between customer's age and spending power\n",
    "\n",
    "scatter_income_age = sns.scatterplot(x = 'income', y = 'age', data = customers, color = sns.color_palette('Greens',1))\n",
    "plt.xlabel('Income', fontsize = 13, fontweight = 'bold')\n",
    "plt.ylabel('Age', fontsize = 13, fontweight = 'bold')\n",
    "plt.show()"
   ]
  },
  {
   "cell_type": "markdown",
   "id": "4800d994",
   "metadata": {},
   "source": [
    "As shown in the scatterplott, most customers have equal purchasing power (up to 200.000 dollars), but only those above the age of 40 have larger purchasing power (incomes greater than 400.000 dollars)."
   ]
  },
  {
   "cell_type": "markdown",
   "id": "7a46ad83",
   "metadata": {},
   "source": [
    "* What is the spending power considering family status?"
   ]
  },
  {
   "cell_type": "code",
   "execution_count": 103,
   "id": "d5c667ee",
   "metadata": {},
   "outputs": [
    {
     "data": {
      "text/html": [
       "<div>\n",
       "<style scoped>\n",
       "    .dataframe tbody tr th:only-of-type {\n",
       "        vertical-align: middle;\n",
       "    }\n",
       "\n",
       "    .dataframe tbody tr th {\n",
       "        vertical-align: top;\n",
       "    }\n",
       "\n",
       "    .dataframe thead th {\n",
       "        text-align: right;\n",
       "    }\n",
       "</style>\n",
       "<table border=\"1\" class=\"dataframe\">\n",
       "  <thead>\n",
       "    <tr style=\"text-align: right;\">\n",
       "      <th>income_category</th>\n",
       "      <th>High income</th>\n",
       "      <th>Low income</th>\n",
       "      <th>Middle income</th>\n",
       "    </tr>\n",
       "    <tr>\n",
       "      <th>fam_status</th>\n",
       "      <th></th>\n",
       "      <th></th>\n",
       "      <th></th>\n",
       "    </tr>\n",
       "  </thead>\n",
       "  <tbody>\n",
       "    <tr>\n",
       "      <th>divorced/widowed</th>\n",
       "      <td>1697</td>\n",
       "      <td>1821</td>\n",
       "      <td>10313</td>\n",
       "    </tr>\n",
       "    <tr>\n",
       "      <th>living with parents and siblings</th>\n",
       "      <td>43</td>\n",
       "      <td>1694</td>\n",
       "      <td>5871</td>\n",
       "    </tr>\n",
       "    <tr>\n",
       "      <th>married</th>\n",
       "      <td>9690</td>\n",
       "      <td>18603</td>\n",
       "      <td>86003</td>\n",
       "    </tr>\n",
       "    <tr>\n",
       "      <th>single</th>\n",
       "      <td>1579</td>\n",
       "      <td>5013</td>\n",
       "      <td>20304</td>\n",
       "    </tr>\n",
       "  </tbody>\n",
       "</table>\n",
       "</div>"
      ],
      "text/plain": [
       "income_category                   High income  Low income  Middle income\n",
       "fam_status                                                              \n",
       "divorced/widowed                         1697        1821          10313\n",
       "living with parents and siblings           43        1694           5871\n",
       "married                                  9690       18603          86003\n",
       "single                                   1579        5013          20304"
      ]
     },
     "execution_count": 103,
     "metadata": {},
     "output_type": "execute_result"
    }
   ],
   "source": [
    "# spending power compered to family status\n",
    "\n",
    "pd.crosstab(cust_ords_prods_merge['fam_status'], customers['income_category'], dropna = False)"
   ]
  },
  {
   "cell_type": "code",
   "execution_count": 104,
   "id": "bb973631",
   "metadata": {},
   "outputs": [
    {
     "data": {
      "image/png": "[encoded data removed]",
      "text/plain": [
       "<Figure size 720x576 with 1 Axes>"
      ]
     },
     "metadata": {},
     "output_type": "display_data"
    }
   ],
   "source": [
    "# spending power in terms of family status\n",
    "\n",
    "income_fam_status = pd.crosstab(cust_ords_prods_merge['fam_status'], customers['income_category'], dropna = False)\n",
    "\n",
    "income_fam_sbar = income_fam_status.plot(kind = 'bar', figsize = (10,8), stacked = True, color = sns.color_palette('Greens', 3))\n",
    "\n",
    "plt.legend(loc='upper left')\n",
    "plt.tight_layout()\n",
    "plt.xlabel('Family status', fontsize = 13, fontweight = 'bold')\n",
    "plt.xticks(fontsize = 13)\n",
    "plt.ylabel('Income in $', fontsize = 13, fontweight = 'bold')\n",
    "plt.yticks(fontsize = 10)\n",
    "plt.title('Spending power by family status', fontsize = 13, fontweight = 'bold')\n",
    "plt.show()"
   ]
  },
  {
   "cell_type": "markdown",
   "id": "f13d4cf6",
   "metadata": {},
   "source": [
    "# Export charts"
   ]
  },
  {
   "cell_type": "code",
   "execution_count": 105,
   "id": "8ef02c1a",
   "metadata": {},
   "outputs": [],
   "source": [
    "region_orders_pie.figure.savefig(os.path.join(path, '04 Analysis', 'Visualizations', 'region_orders_pie.png'))"
   ]
  },
  {
   "cell_type": "code",
   "execution_count": 106,
   "id": "93dc9835",
   "metadata": {},
   "outputs": [],
   "source": [
    "ord_hab_stab.figure.savefig(os.path.join(path, '04 Analysis', 'Visualizations', 'ord_hab_stab.png'))"
   ]
  },
  {
   "cell_type": "code",
   "execution_count": 107,
   "id": "d94c3c20",
   "metadata": {},
   "outputs": [],
   "source": [
    "region_pie.figure.savefig(os.path.join(path, '04 Analysis', 'Visualizations','region_pie.png'))"
   ]
  },
  {
   "cell_type": "code",
   "execution_count": 108,
   "id": "bac7735a",
   "metadata": {},
   "outputs": [],
   "source": [
    "order_age_barh.figure.savefig(os.path.join(path, '04 Analysis', 'Visualizations','order_age_barh.png'))"
   ]
  },
  {
   "cell_type": "code",
   "execution_count": 109,
   "id": "097d8e4d",
   "metadata": {},
   "outputs": [],
   "source": [
    "ord_fam_bar.figure.savefig(os.path.join(path, '04 Analysis', 'Visualizations', 'ord_fam_bar.png'))"
   ]
  },
  {
   "cell_type": "code",
   "execution_count": 110,
   "id": "26881a6d",
   "metadata": {},
   "outputs": [],
   "source": [
    "income_pie.figure.savefig(os.path.join(path, '04 Analysis', 'Visualizations','income_pie.png'))"
   ]
  },
  {
   "cell_type": "code",
   "execution_count": 111,
   "id": "c4204af5",
   "metadata": {},
   "outputs": [],
   "source": [
    "n_depen_pie.figure.savefig(os.path.join(path, '04 Analysis', 'Visualizations','n_depen_pie.png'))"
   ]
  },
  {
   "cell_type": "code",
   "execution_count": 112,
   "id": "64b5d408",
   "metadata": {},
   "outputs": [],
   "source": [
    "dow_orders_bar.figure.savefig(os.path.join(path, '04 Analysis', 'Visualizations','dow_orders_bar.png'))"
   ]
  },
  {
   "cell_type": "code",
   "execution_count": 113,
   "id": "71669a37",
   "metadata": {},
   "outputs": [],
   "source": [
    "hod_orders_bar.figure.savefig(os.path.join(path, '04 Analysis', 'Visualizations', 'hod_orders_bar.png'))"
   ]
  },
  {
   "cell_type": "code",
   "execution_count": 114,
   "id": "24c23c57",
   "metadata": {},
   "outputs": [],
   "source": [
    "bar_orders_loyal.figure.savefig(os.path.join(path, '04 Analysis', 'Visualizations', 'bar_orders_loyal.png'))"
   ]
  },
  {
   "cell_type": "code",
   "execution_count": 115,
   "id": "b088814e",
   "metadata": {},
   "outputs": [],
   "source": [
    "scatter_income_age.figure.savefig(os.path.join(path, '04 Analysis', 'Visualizations','scatter_income_age.png'))"
   ]
  },
  {
   "cell_type": "code",
   "execution_count": 116,
   "id": "cf74339d",
   "metadata": {},
   "outputs": [],
   "source": [
    "income_fam_sbar.figure.savefig(os.path.join(path, '04 Analysis', 'Visualizations','income_fam_sbar.png'))"
   ]
  },
  {
   "cell_type": "code",
   "execution_count": 117,
   "id": "2f3dcf64",
   "metadata": {},
   "outputs": [],
   "source": [
    "cust_count_bar.figure.savefig(os.path.join(path, '04 Analysis', 'Visualizations', 'cust_count_bar.png'))"
   ]
  },
  {
   "cell_type": "code",
   "execution_count": 118,
   "id": "7dab1622",
   "metadata": {},
   "outputs": [],
   "source": [
    "dep_ord_bar.figure.savefig(os.path.join(path, '04 Analysis', 'Visualizations', 'dep_ord_bar.png'))"
   ]
  },
  {
   "cell_type": "code",
   "execution_count": 119,
   "id": "fdaf1d32",
   "metadata": {},
   "outputs": [],
   "source": [
    "ord_freq_dep_bar.figure.savefig(os.path.join(path, '04 Analysis', 'Visualizations', 'ord_freq_dep_bar.png'))"
   ]
  },
  {
   "cell_type": "code",
   "execution_count": 120,
   "id": "e071b9b2",
   "metadata": {},
   "outputs": [],
   "source": [
    "baby_count_pie.figure.savefig(os.path.join(path, '04 Analysis', 'Visualizations', 'baby_count_pie'))"
   ]
  },
  {
   "cell_type": "code",
   "execution_count": 121,
   "id": "dd7c0f4f",
   "metadata": {},
   "outputs": [],
   "source": [
    "baby_barh.figure.savefig(os.path.join(path, '04 Analysis', 'Visualizations', 'baby_barh'))"
   ]
  },
  {
   "cell_type": "code",
   "execution_count": 122,
   "id": "ace3317e",
   "metadata": {},
   "outputs": [],
   "source": [
    "baby_bar.figure.savefig(os.path.join(path, '04 Analysis', 'Visualizations', 'baby_bar'))"
   ]
  },
  {
   "cell_type": "code",
   "execution_count": 124,
   "id": "820d17a3",
   "metadata": {},
   "outputs": [],
   "source": [
    "veget_bar.figure.savefig(os.path.join(path, '04 Analysis', 'Visualizations', 'veget_bar'))"
   ]
  },
  {
   "cell_type": "code",
   "execution_count": 125,
   "id": "04814ff3",
   "metadata": {},
   "outputs": [],
   "source": [
    "pet_bar.figure.savefig(os.path.join(path, '04 Analysis', 'Visualizations', 'pet_bar'))"
   ]
  },
  {
   "cell_type": "code",
   "execution_count": 126,
   "id": "53134d62",
   "metadata": {},
   "outputs": [],
   "source": [
    "cust_ords_prods_merge.to_pickle(os.path.join(path, '02 Data','Prepared Data', 'final.pkl'))"
   ]
  }
 ],
 "metadata": {
  "kernelspec": {
   "display_name": "Python 3 (ipykernel)",
   "language": "python",
   "name": "python3"
  },
  "language_info": {
   "codemirror_mode": {
    "name": "ipython",
    "version": 3
   },
   "file_extension": ".py",
   "mimetype": "text/x-python",
   "name": "python",
   "nbconvert_exporter": "python",
   "pygments_lexer": "ipython3",
   "version": "3.9.12"
  },
  "toc": {
   "base_numbering": 1,
   "nav_menu": {},
   "number_sections": true,
   "sideBar": true,
   "skip_h1_title": false,
   "title_cell": "Table of Contents",
   "title_sidebar": "Contents",
   "toc_cell": false,
   "toc_position": {},
   "toc_section_display": true,
   "toc_window_display": true
  }
 },
 "nbformat": 4,
 "nbformat_minor": 5
}
